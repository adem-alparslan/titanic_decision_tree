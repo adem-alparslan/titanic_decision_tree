{
  "nbformat": 4,
  "nbformat_minor": 0,
  "metadata": {
    "colab": {
      "provenance": []
    },
    "kernelspec": {
      "name": "python3",
      "display_name": "Python 3"
    },
    "language_info": {
      "name": "python"
    },
    "accelerator": "GPU",
    "gpuClass": "standard"
  },
  "cells": [
    {
      "cell_type": "markdown",
      "source": [
        "## Laden Module"
      ],
      "metadata": {
        "id": "ApVqlbN2W_em"
      }
    },
    {
      "cell_type": "code",
      "execution_count": null,
      "metadata": {
        "id": "LugSvIsLEjxe"
      },
      "outputs": [],
      "source": [
        "import pandas as pd                                                \n",
        "import matplotlib.pyplot as plt                                    \n",
        "import seaborn as sns\n",
        "from sklearn.model_selection import train_test_split\n",
        "from sklearn.tree import DecisionTreeClassifier\n",
        "from sklearn.metrics import accuracy_score\n",
        "from sklearn.metrics import confusion_matrix\n",
        "from sklearn.model_selection import GridSearchCV\n",
        "from graphviz import Source\n",
        "from sklearn.tree import export_graphviz"
      ]
    },
    {
      "cell_type": "markdown",
      "source": [
        "## Laden der Daten"
      ],
      "metadata": {
        "id": "H2-i-bKSXDin"
      }
    },
    {
      "cell_type": "code",
      "source": [
        "titanic_data = pd.read_csv('/content/sample_data/titanic_data.csv', sep = ';', decimal = ',')"
      ],
      "metadata": {
        "id": "ATwlGKq4E3Il"
      },
      "execution_count": null,
      "outputs": []
    },
    {
      "cell_type": "markdown",
      "source": [
        "## Data Understanding"
      ],
      "metadata": {
        "id": "m-o3Nj19XG1S"
      }
    },
    {
      "cell_type": "code",
      "source": [
        "titanic_data.info()"
      ],
      "metadata": {
        "id": "Nx4rfa0aE6cp"
      },
      "execution_count": null,
      "outputs": []
    },
    {
      "cell_type": "markdown",
      "source": [
        "Pclass: Passagier-Klasse (P1, P2, P3)\n",
        "\n",
        "\n",
        "\n",
        "Age: Alter\n",
        "\n",
        "Fare: Ticketpreis\n",
        "\n",
        "Embarked: Hafen der Einschiffung (C = Cherbourg; Q = Queenstown; S = Southampton) \n",
        "\n",
        "FamilySize: Anzahl der Familienmitglieder  \n",
        "\n",
        "GenderClass: Geschlecht oder Kind (male, female,  child)\n",
        "\n",
        "Survived: Label (0: nicht überlebt, 1: überlebt)"
      ],
      "metadata": {
        "id": "Yq_SJm1OaCG2"
      }
    },
    {
      "cell_type": "code",
      "source": [
        "titanic_data.describe()"
      ],
      "metadata": {
        "id": "TkrrfYLjFCm6"
      },
      "execution_count": null,
      "outputs": []
    },
    {
      "cell_type": "code",
      "source": [
        "sns.catplot(data = titanic_data, x = 'Survived', kind='count')"
      ],
      "metadata": {
        "id": "DOJYsquWbKAg"
      },
      "execution_count": null,
      "outputs": []
    },
    {
      "cell_type": "code",
      "source": [
        "sns.catplot(data = titanic_data, x = 'GenderClass', hue = 'Survived',\n",
        "            kind='count')"
      ],
      "metadata": {
        "id": "ar5RRiIhYoKA"
      },
      "execution_count": null,
      "outputs": []
    },
    {
      "cell_type": "code",
      "source": [
        "sns.catplot(data = titanic_data, x = 'Pclass', hue = 'Survived',\n",
        "            kind='count')"
      ],
      "metadata": {
        "id": "mhR9XVJRZvqy"
      },
      "execution_count": null,
      "outputs": []
    },
    {
      "cell_type": "markdown",
      "source": [
        "## Data Preparation"
      ],
      "metadata": {
        "id": "KkA9cw_4XK2L"
      }
    },
    {
      "cell_type": "code",
      "source": [
        "titanic = pd.get_dummies(titanic_data, columns=['Pclass', 'GenderClass','Embarked'])\n",
        "X = titanic.loc[:,titanic.columns != 'Survived']\n",
        "y = titanic.Survived \n"
      ],
      "metadata": {
        "id": "BvknP2g0FFuL"
      },
      "execution_count": null,
      "outputs": []
    },
    {
      "cell_type": "code",
      "source": [
        "X_train, X_test, y_train, y_test = train_test_split(X, y, test_size=0.20, random_state=1)"
      ],
      "metadata": {
        "id": "zJgjf85-G47T"
      },
      "execution_count": null,
      "outputs": []
    },
    {
      "cell_type": "code",
      "source": [
        "print(X_train.shape)\n",
        "print(y_train.shape)"
      ],
      "metadata": {
        "id": "Mq5fVy5dG-_j"
      },
      "execution_count": null,
      "outputs": []
    },
    {
      "cell_type": "markdown",
      "source": [
        "## Modeling"
      ],
      "metadata": {
        "id": "Vf58q5dtXcbl"
      }
    },
    {
      "cell_type": "code",
      "source": [
        "model_1 = DecisionTreeClassifier(random_state = 0)\n",
        "model_1.fit(X_train, y_train)"
      ],
      "metadata": {
        "id": "4Lwm4AhfHF6J"
      },
      "execution_count": null,
      "outputs": []
    },
    {
      "cell_type": "code",
      "source": [
        "graph_1 = Source( export_graphviz(model_1, \n",
        "                                  out_file=None,\n",
        "                                  filled=True,\n",
        "                                  rounded=True,  \n",
        "                                  special_characters=True, \n",
        "                                  feature_names=X.columns))\n",
        "graph_1.format = 'png'\n",
        "graph_1.render('model_1',view = True)"
      ],
      "metadata": {
        "id": "NYm1ElgNeEG-"
      },
      "execution_count": null,
      "outputs": []
    },
    {
      "cell_type": "markdown",
      "source": [
        "## Evaluation"
      ],
      "metadata": {
        "id": "O_oT7zZUXe-Z"
      }
    },
    {
      "cell_type": "code",
      "source": [
        "y_pred_train_1 = model_1.predict(X_train)  \n",
        "y_pred_test_1 = model_1.predict(X_test)\n",
        "print('Accuracy Score Train Data:', accuracy_score(y_train,y_pred_train_1))\n",
        "print('Accuracy Score Test Data:', accuracy_score(y_test,y_pred_test_1))\n"
      ],
      "metadata": {
        "id": "hlf-GjCNHeIC"
      },
      "execution_count": null,
      "outputs": []
    },
    {
      "cell_type": "code",
      "source": [
        "confusion_matrix_1 = pd.DataFrame(confusion_matrix(y_test, y_pred_test_1))\n",
        "\n",
        "confusion_matrix_1.index = ['nicht überlebt','überlebt']\n",
        "confusion_matrix_1.columns = ['Vorhersage nicht überlebt','Vorhersage überlebt']\n",
        "print(confusion_matrix_1)"
      ],
      "metadata": {
        "id": "9pd7t2MYHqVH"
      },
      "execution_count": null,
      "outputs": []
    },
    {
      "cell_type": "markdown",
      "source": [
        "## Optimierung: Hyperparameteroptimierung"
      ],
      "metadata": {
        "id": "Ae9FE2JwXh31"
      }
    },
    {
      "cell_type": "code",
      "source": [
        "params = {\n",
        "    'criterion':['gini','entropy'],\n",
        "    'max_depth': [2, 3, 4, 5, 6, 7, 8, 9, 10],\n",
        "    'max_features': [2, 3, 4, 5, 6]\n",
        "    }"
      ],
      "metadata": {
        "id": "viN-XibdH9kA"
      },
      "execution_count": null,
      "outputs": []
    },
    {
      "cell_type": "code",
      "source": [
        "grid_1 = GridSearchCV(model_1, \n",
        "                      param_grid = params, \n",
        "                      cv=5,\n",
        "                      verbose = 2)\n",
        "\n",
        "grid_1.fit(X_train, y_train)"
      ],
      "metadata": {
        "id": "MFOtjLhxIHLU"
      },
      "execution_count": null,
      "outputs": []
    },
    {
      "cell_type": "code",
      "source": [
        "grid_1.best_estimator_ "
      ],
      "metadata": {
        "id": "tSVb_eVEIbP4"
      },
      "execution_count": null,
      "outputs": []
    },
    {
      "cell_type": "code",
      "source": [
        "model_2 = DecisionTreeClassifier(random_state = 0,\n",
        "                                         max_depth = 6,\n",
        "                                         max_features = 5)\n",
        "model_2.fit(X_train, y_train)"
      ],
      "metadata": {
        "id": "SqePizSpIfYK"
      },
      "execution_count": null,
      "outputs": []
    },
    {
      "cell_type": "code",
      "source": [
        "graph_2 = Source( export_graphviz(model_2, \n",
        "                                  out_file=None,\n",
        "                                  filled=True,\n",
        "                                  rounded=True,  \n",
        "                                  special_characters=True, \n",
        "                                  feature_names=X.columns))\n",
        "graph_2.format = 'png'\n",
        "graph_2.render('model_2',view = True)"
      ],
      "metadata": {
        "id": "SMnoNu1hf-_2"
      },
      "execution_count": null,
      "outputs": []
    },
    {
      "cell_type": "code",
      "source": [
        "y_pred_train_2 = model_2.predict(X_train)  \n",
        "y_pred_test_2 = model_2.predict(X_test)\n",
        "print('Accuracy Score Train Data:', accuracy_score(y_train,y_pred_train_2))\n",
        "print('Accuracy Score Test Data:', accuracy_score(y_test,y_pred_test_2))"
      ],
      "metadata": {
        "id": "mOlGB11DIrJn"
      },
      "execution_count": null,
      "outputs": []
    },
    {
      "cell_type": "code",
      "source": [
        "confusion_matrix_2 = pd.DataFrame(confusion_matrix(y_test, y_pred_test_2))\n",
        "\n",
        "confusion_matrix_2.index = ['nicht überlebt','überlebt']\n",
        "confusion_matrix_2.columns = ['Vorhersage nicht überlebt','Vorhersage überlebt']\n",
        "print(confusion_matrix_2)"
      ],
      "metadata": {
        "id": "eWSXbmv_Iy2a"
      },
      "execution_count": null,
      "outputs": []
    },
    {
      "cell_type": "markdown",
      "source": [
        "## Optimierung 2: Feature Selection & Hyperparameteroptimierung"
      ],
      "metadata": {
        "id": "Y0vA1ycCXqjP"
      }
    },
    {
      "cell_type": "code",
      "source": [
        "X_train_2 = X_train.drop(['Pclass_P1', 'Pclass_P2'], axis = 1)\n",
        "X_test_2 = X_test.drop(['Pclass_P1', 'Pclass_P2'], axis = 1)\n",
        "\n",
        "grid_2 = GridSearchCV(model_1, \n",
        "                      param_grid = params,\n",
        "                      scoring = 'roc_auc',\n",
        "                      cv=5,\n",
        "                      verbose = 2)\n",
        "\n",
        "grid_2.fit(X_train_2, y_train)"
      ],
      "metadata": {
        "id": "q7F6iF-PI7oh"
      },
      "execution_count": null,
      "outputs": []
    },
    {
      "cell_type": "code",
      "source": [
        "grid_2.best_estimator_ "
      ],
      "metadata": {
        "id": "cRrN1B6iKh39"
      },
      "execution_count": null,
      "outputs": []
    },
    {
      "cell_type": "code",
      "source": [
        "model_3 = DecisionTreeClassifier(random_state = 0,\n",
        "                                         max_depth = 4,\n",
        "                                         max_features = 6)\n",
        "model_3.fit(X_train_2, y_train)"
      ],
      "metadata": {
        "id": "HyQhPl6zKnlw"
      },
      "execution_count": null,
      "outputs": []
    },
    {
      "cell_type": "code",
      "source": [
        "graph_3 = Source( export_graphviz(model_3, \n",
        "                                  out_file=None,\n",
        "                                  filled=True,\n",
        "                                  rounded=True,  \n",
        "                                  special_characters=True, \n",
        "                                  feature_names=X.drop(['Pclass_P1', 'Pclass_P2'], axis = 1).columns))\n",
        "graph_3.format = 'png'\n",
        "graph_3.render('model_3',view = True)"
      ],
      "metadata": {
        "id": "f9VsdIKugXhZ"
      },
      "execution_count": null,
      "outputs": []
    },
    {
      "cell_type": "code",
      "source": [
        "y_pred_train_3 = model_3.predict(X_train_2)  \n",
        "y_pred_test_3 = model_3.predict(X_test_2)\n",
        "print('Accuracy Score Train Data:', accuracy_score(y_train, y_pred_train_3))\n",
        "print('Accuracy Score Test Data:', accuracy_score(y_test, y_pred_test_3))"
      ],
      "metadata": {
        "id": "twozXxlJKt7W"
      },
      "execution_count": null,
      "outputs": []
    },
    {
      "cell_type": "code",
      "source": [
        "confusion_matrix_3 = pd.DataFrame(confusion_matrix(y_test, y_pred_test_3))\n",
        "\n",
        "confusion_matrix_3.index = ['nicht überlebt','überlebt']\n",
        "confusion_matrix_3.columns = ['Vorhersage nicht überlebt','Vorhersage überlebt']\n",
        "print(confusion_matrix_3)"
      ],
      "metadata": {
        "id": "B-wzyHphVnY0"
      },
      "execution_count": null,
      "outputs": []
    }
  ]
}