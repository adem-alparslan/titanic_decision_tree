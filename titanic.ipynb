{
  "nbformat": 4,
  "nbformat_minor": 0,
  "metadata": {
    "colab": {
      "provenance": []
    },
    "kernelspec": {
      "name": "python3",
      "display_name": "Python 3"
    },
    "language_info": {
      "name": "python"
    },
    "accelerator": "GPU",
    "gpuClass": "standard"
  },
  "cells": [
    {
      "cell_type": "markdown",
      "source": [
        "## Laden Module"
      ],
      "metadata": {
        "id": "ApVqlbN2W_em"
      }
    },
    {
      "cell_type": "code",
      "execution_count": 1,
      "metadata": {
        "id": "LugSvIsLEjxe"
      },
      "outputs": [],
      "source": [
        "import pandas as pd                                                \n",
        "import matplotlib.pyplot as plt                                    \n",
        "import seaborn as sns\n",
        "from sklearn.model_selection import train_test_split\n",
        "from sklearn.tree import DecisionTreeClassifier\n",
        "from sklearn.metrics import accuracy_score\n",
        "from sklearn.metrics import confusion_matrix\n",
        "from sklearn.model_selection import GridSearchCV\n",
        "from graphviz import Source\n",
        "from sklearn.tree import export_graphviz"
      ]
    },
    {
      "cell_type": "markdown",
      "source": [
        "## Laden der Daten"
      ],
      "metadata": {
        "id": "H2-i-bKSXDin"
      }
    },
    {
      "cell_type": "code",
      "source": [
        "titanic_data = pd.read_csv('/content/sample_data/titanic_data.csv', sep = ';', decimal = ',')"
      ],
      "metadata": {
        "id": "ATwlGKq4E3Il"
      },
      "execution_count": 2,
      "outputs": []
    },
    {
      "cell_type": "markdown",
      "source": [
        "## Data Understanding"
      ],
      "metadata": {
        "id": "m-o3Nj19XG1S"
      }
    },
    {
      "cell_type": "code",
      "source": [
        "titanic_data.info()"
      ],
      "metadata": {
        "colab": {
          "base_uri": "https://localhost:8080/"
        },
        "id": "Nx4rfa0aE6cp",
        "outputId": "bff78c1f-e90d-4854-bed5-ba808da58bdf"
      },
      "execution_count": 3,
      "outputs": [
        {
          "output_type": "stream",
          "name": "stdout",
          "text": [
            "<class 'pandas.core.frame.DataFrame'>\n",
            "RangeIndex: 891 entries, 0 to 890\n",
            "Data columns (total 7 columns):\n",
            " #   Column       Non-Null Count  Dtype  \n",
            "---  ------       --------------  -----  \n",
            " 0   Pclass       891 non-null    object \n",
            " 1   Age          891 non-null    float64\n",
            " 2   Fare         891 non-null    float64\n",
            " 3   Embarked     891 non-null    object \n",
            " 4   FamilySize   891 non-null    int64  \n",
            " 5   GenderClass  891 non-null    object \n",
            " 6   Survived     891 non-null    int64  \n",
            "dtypes: float64(2), int64(2), object(3)\n",
            "memory usage: 48.9+ KB\n"
          ]
        }
      ]
    },
    {
      "cell_type": "markdown",
      "source": [
        "Pclass: Passagier-Klasse (P1, P2, P3)\n",
        "\n",
        "\n",
        "\n",
        "Age: Alter\n",
        "\n",
        "Fare: Ticketpreis\n",
        "\n",
        "Embarked: Hafen der Einschiffung (C = Cherbourg; Q = Queenstown; S = Southampton) \n",
        "\n",
        "FamilySize: Anzahl der Familienmitglieder  \n",
        "\n",
        "GenderClass: Geschlecht oder Kind (male, female,  child)\n",
        "\n",
        "Survived: Label (0: nicht überlebt, 1: überlebt)"
      ],
      "metadata": {
        "id": "Yq_SJm1OaCG2"
      }
    },
    {
      "cell_type": "code",
      "source": [
        "titanic_data.describe()"
      ],
      "metadata": {
        "colab": {
          "base_uri": "https://localhost:8080/",
          "height": 300
        },
        "id": "TkrrfYLjFCm6",
        "outputId": "fd10cf35-1cd2-41f9-fa67-da3f01ac60f5"
      },
      "execution_count": 4,
      "outputs": [
        {
          "output_type": "execute_result",
          "data": {
            "text/plain": [
              "              Age        Fare  FamilySize    Survived\n",
              "count  891.000000  891.000000  891.000000  891.000000\n",
              "mean    29.361582   32.447545    1.904602    0.383838\n",
              "std     13.019697   49.570235    1.613459    0.486592\n",
              "min      0.420000    4.012500    1.000000    0.000000\n",
              "25%     22.000000    7.925000    1.000000    0.000000\n",
              "50%     28.000000   14.454200    1.000000    0.000000\n",
              "75%     35.000000   31.000000    2.000000    1.000000\n",
              "max     80.000000  512.329200   11.000000    1.000000"
            ],
            "text/html": [
              "\n",
              "  <div id=\"df-c4df1aee-c60d-4e7e-bf02-4efbc87bed05\">\n",
              "    <div class=\"colab-df-container\">\n",
              "      <div>\n",
              "<style scoped>\n",
              "    .dataframe tbody tr th:only-of-type {\n",
              "        vertical-align: middle;\n",
              "    }\n",
              "\n",
              "    .dataframe tbody tr th {\n",
              "        vertical-align: top;\n",
              "    }\n",
              "\n",
              "    .dataframe thead th {\n",
              "        text-align: right;\n",
              "    }\n",
              "</style>\n",
              "<table border=\"1\" class=\"dataframe\">\n",
              "  <thead>\n",
              "    <tr style=\"text-align: right;\">\n",
              "      <th></th>\n",
              "      <th>Age</th>\n",
              "      <th>Fare</th>\n",
              "      <th>FamilySize</th>\n",
              "      <th>Survived</th>\n",
              "    </tr>\n",
              "  </thead>\n",
              "  <tbody>\n",
              "    <tr>\n",
              "      <th>count</th>\n",
              "      <td>891.000000</td>\n",
              "      <td>891.000000</td>\n",
              "      <td>891.000000</td>\n",
              "      <td>891.000000</td>\n",
              "    </tr>\n",
              "    <tr>\n",
              "      <th>mean</th>\n",
              "      <td>29.361582</td>\n",
              "      <td>32.447545</td>\n",
              "      <td>1.904602</td>\n",
              "      <td>0.383838</td>\n",
              "    </tr>\n",
              "    <tr>\n",
              "      <th>std</th>\n",
              "      <td>13.019697</td>\n",
              "      <td>49.570235</td>\n",
              "      <td>1.613459</td>\n",
              "      <td>0.486592</td>\n",
              "    </tr>\n",
              "    <tr>\n",
              "      <th>min</th>\n",
              "      <td>0.420000</td>\n",
              "      <td>4.012500</td>\n",
              "      <td>1.000000</td>\n",
              "      <td>0.000000</td>\n",
              "    </tr>\n",
              "    <tr>\n",
              "      <th>25%</th>\n",
              "      <td>22.000000</td>\n",
              "      <td>7.925000</td>\n",
              "      <td>1.000000</td>\n",
              "      <td>0.000000</td>\n",
              "    </tr>\n",
              "    <tr>\n",
              "      <th>50%</th>\n",
              "      <td>28.000000</td>\n",
              "      <td>14.454200</td>\n",
              "      <td>1.000000</td>\n",
              "      <td>0.000000</td>\n",
              "    </tr>\n",
              "    <tr>\n",
              "      <th>75%</th>\n",
              "      <td>35.000000</td>\n",
              "      <td>31.000000</td>\n",
              "      <td>2.000000</td>\n",
              "      <td>1.000000</td>\n",
              "    </tr>\n",
              "    <tr>\n",
              "      <th>max</th>\n",
              "      <td>80.000000</td>\n",
              "      <td>512.329200</td>\n",
              "      <td>11.000000</td>\n",
              "      <td>1.000000</td>\n",
              "    </tr>\n",
              "  </tbody>\n",
              "</table>\n",
              "</div>\n",
              "      <button class=\"colab-df-convert\" onclick=\"convertToInteractive('df-c4df1aee-c60d-4e7e-bf02-4efbc87bed05')\"\n",
              "              title=\"Convert this dataframe to an interactive table.\"\n",
              "              style=\"display:none;\">\n",
              "        \n",
              "  <svg xmlns=\"http://www.w3.org/2000/svg\" height=\"24px\"viewBox=\"0 0 24 24\"\n",
              "       width=\"24px\">\n",
              "    <path d=\"M0 0h24v24H0V0z\" fill=\"none\"/>\n",
              "    <path d=\"M18.56 5.44l.94 2.06.94-2.06 2.06-.94-2.06-.94-.94-2.06-.94 2.06-2.06.94zm-11 1L8.5 8.5l.94-2.06 2.06-.94-2.06-.94L8.5 2.5l-.94 2.06-2.06.94zm10 10l.94 2.06.94-2.06 2.06-.94-2.06-.94-.94-2.06-.94 2.06-2.06.94z\"/><path d=\"M17.41 7.96l-1.37-1.37c-.4-.4-.92-.59-1.43-.59-.52 0-1.04.2-1.43.59L10.3 9.45l-7.72 7.72c-.78.78-.78 2.05 0 2.83L4 21.41c.39.39.9.59 1.41.59.51 0 1.02-.2 1.41-.59l7.78-7.78 2.81-2.81c.8-.78.8-2.07 0-2.86zM5.41 20L4 18.59l7.72-7.72 1.47 1.35L5.41 20z\"/>\n",
              "  </svg>\n",
              "      </button>\n",
              "      \n",
              "  <style>\n",
              "    .colab-df-container {\n",
              "      display:flex;\n",
              "      flex-wrap:wrap;\n",
              "      gap: 12px;\n",
              "    }\n",
              "\n",
              "    .colab-df-convert {\n",
              "      background-color: #E8F0FE;\n",
              "      border: none;\n",
              "      border-radius: 50%;\n",
              "      cursor: pointer;\n",
              "      display: none;\n",
              "      fill: #1967D2;\n",
              "      height: 32px;\n",
              "      padding: 0 0 0 0;\n",
              "      width: 32px;\n",
              "    }\n",
              "\n",
              "    .colab-df-convert:hover {\n",
              "      background-color: #E2EBFA;\n",
              "      box-shadow: 0px 1px 2px rgba(60, 64, 67, 0.3), 0px 1px 3px 1px rgba(60, 64, 67, 0.15);\n",
              "      fill: #174EA6;\n",
              "    }\n",
              "\n",
              "    [theme=dark] .colab-df-convert {\n",
              "      background-color: #3B4455;\n",
              "      fill: #D2E3FC;\n",
              "    }\n",
              "\n",
              "    [theme=dark] .colab-df-convert:hover {\n",
              "      background-color: #434B5C;\n",
              "      box-shadow: 0px 1px 3px 1px rgba(0, 0, 0, 0.15);\n",
              "      filter: drop-shadow(0px 1px 2px rgba(0, 0, 0, 0.3));\n",
              "      fill: #FFFFFF;\n",
              "    }\n",
              "  </style>\n",
              "\n",
              "      <script>\n",
              "        const buttonEl =\n",
              "          document.querySelector('#df-c4df1aee-c60d-4e7e-bf02-4efbc87bed05 button.colab-df-convert');\n",
              "        buttonEl.style.display =\n",
              "          google.colab.kernel.accessAllowed ? 'block' : 'none';\n",
              "\n",
              "        async function convertToInteractive(key) {\n",
              "          const element = document.querySelector('#df-c4df1aee-c60d-4e7e-bf02-4efbc87bed05');\n",
              "          const dataTable =\n",
              "            await google.colab.kernel.invokeFunction('convertToInteractive',\n",
              "                                                     [key], {});\n",
              "          if (!dataTable) return;\n",
              "\n",
              "          const docLinkHtml = 'Like what you see? Visit the ' +\n",
              "            '<a target=\"_blank\" href=https://colab.research.google.com/notebooks/data_table.ipynb>data table notebook</a>'\n",
              "            + ' to learn more about interactive tables.';\n",
              "          element.innerHTML = '';\n",
              "          dataTable['output_type'] = 'display_data';\n",
              "          await google.colab.output.renderOutput(dataTable, element);\n",
              "          const docLink = document.createElement('div');\n",
              "          docLink.innerHTML = docLinkHtml;\n",
              "          element.appendChild(docLink);\n",
              "        }\n",
              "      </script>\n",
              "    </div>\n",
              "  </div>\n",
              "  "
            ]
          },
          "metadata": {},
          "execution_count": 4
        }
      ]
    },
    {
      "cell_type": "code",
      "source": [
        "sns.catplot(data = titanic_data, x = 'Survived', kind='count')"
      ],
      "metadata": {
        "colab": {
          "base_uri": "https://localhost:8080/",
          "height": 387
        },
        "id": "DOJYsquWbKAg",
        "outputId": "5123c874-af80-47d4-8a46-2ffc592811d8"
      },
      "execution_count": 5,
      "outputs": [
        {
          "output_type": "execute_result",
          "data": {
            "text/plain": [
              "<seaborn.axisgrid.FacetGrid at 0x7f86e9b5d1c0>"
            ]
          },
          "metadata": {},
          "execution_count": 5
        },
        {
          "output_type": "display_data",
          "data": {
            "text/plain": [
              "<Figure size 360x360 with 1 Axes>"
            ],
            "image/png": "[encoded data removed]"
          },
          "metadata": {
            "needs_background": "light"
          }
        }
      ]
    },
    {
      "cell_type": "code",
      "source": [
        "sns.catplot(data = titanic_data, x = 'GenderClass', hue = 'Survived',\n",
        "            kind='count')"
      ],
      "metadata": {
        "colab": {
          "base_uri": "https://localhost:8080/",
          "height": 387
        },
        "id": "ar5RRiIhYoKA",
        "outputId": "527f4be1-df91-4b66-9dd2-01e7eee16813"
      },
      "execution_count": 6,
      "outputs": [
        {
          "output_type": "execute_result",
          "data": {
            "text/plain": [
              "<seaborn.axisgrid.FacetGrid at 0x7f86e7232400>"
            ]
          },
          "metadata": {},
          "execution_count": 6
        },
        {
          "output_type": "display_data",
          "data": {
            "text/plain": [
              "<Figure size 411.875x360 with 1 Axes>"
            ],
            "image/png": "[encoded data removed]"
          },
          "metadata": {
            "needs_background": "light"
          }
        }
      ]
    },
    {
      "cell_type": "code",
      "source": [
        "sns.catplot(data = titanic_data, x = 'Pclass', hue = 'Survived',\n",
        "            kind='count')"
      ],
      "metadata": {
        "colab": {
          "base_uri": "https://localhost:8080/",
          "height": 387
        },
        "id": "mhR9XVJRZvqy",
        "outputId": "7dd45dbf-712e-4335-cf97-38c912961f92"
      },
      "execution_count": 7,
      "outputs": [
        {
          "output_type": "execute_result",
          "data": {
            "text/plain": [
              "<seaborn.axisgrid.FacetGrid at 0x7f86e9acdfa0>"
            ]
          },
          "metadata": {},
          "execution_count": 7
        },
        {
          "output_type": "display_data",
          "data": {
            "text/plain": [
              "<Figure size 411.875x360 with 1 Axes>"
            ],
            "image/png": "[encoded data removed]"
          },
          "metadata": {
            "needs_background": "light"
          }
        }
      ]
    },
    {
      "cell_type": "markdown",
      "source": [
        "## Data Preparation"
      ],
      "metadata": {
        "id": "KkA9cw_4XK2L"
      }
    },
    {
      "cell_type": "code",
      "source": [
        "titanic = pd.get_dummies(titanic_data, columns=['Pclass', 'GenderClass','Embarked'])\n",
        "X = titanic.loc[:,titanic.columns != 'Survived']\n",
        "y = titanic.Survived \n"
      ],
      "metadata": {
        "id": "BvknP2g0FFuL"
      },
      "execution_count": 8,
      "outputs": []
    },
    {
      "cell_type": "code",
      "source": [
        "X_train, X_test, y_train, y_test = train_test_split(X, y, test_size=0.20, random_state=1)"
      ],
      "metadata": {
        "id": "zJgjf85-G47T"
      },
      "execution_count": 9,
      "outputs": []
    },
    {
      "cell_type": "code",
      "source": [
        "print(X_train.shape)\n",
        "print(y_train.shape)"
      ],
      "metadata": {
        "colab": {
          "base_uri": "https://localhost:8080/"
        },
        "id": "Mq5fVy5dG-_j",
        "outputId": "6080b27c-7819-4431-baa0-9b836f8e936e"
      },
      "execution_count": 10,
      "outputs": [
        {
          "output_type": "stream",
          "name": "stdout",
          "text": [
            "(712, 12)\n",
            "(712,)\n"
          ]
        }
      ]
    },
    {
      "cell_type": "markdown",
      "source": [
        "## Modeling"
      ],
      "metadata": {
        "id": "Vf58q5dtXcbl"
      }
    },
    {
      "cell_type": "code",
      "source": [
        "model_1 = DecisionTreeClassifier(random_state = 0)\n",
        "model_1.fit(X_train, y_train)"
      ],
      "metadata": {
        "colab": {
          "base_uri": "https://localhost:8080/"
        },
        "id": "4Lwm4AhfHF6J",
        "outputId": "bec33072-8a2f-4181-f9d5-03d8f9254341"
      },
      "execution_count": 11,
      "outputs": [
        {
          "output_type": "execute_result",
          "data": {
            "text/plain": [
              "DecisionTreeClassifier(random_state=0)"
            ]
          },
          "metadata": {},
          "execution_count": 11
        }
      ]
    },
    {
      "cell_type": "code",
      "source": [
        "graph_1 = Source( export_graphviz(model_1, \n",
        "                                  out_file=None,\n",
        "                                  filled=True,\n",
        "                                  rounded=True,  \n",
        "                                  special_characters=True, \n",
        "                                  feature_names=X.columns))\n",
        "graph_1.format = 'png'\n",
        "graph_1.render('model_1',view = True)"
      ],
      "metadata": {
        "colab": {
          "base_uri": "https://localhost:8080/",
          "height": 35
        },
        "id": "NYm1ElgNeEG-",
        "outputId": "6503d5bb-cb14-4dc8-f642-3c622827c909"
      },
      "execution_count": 12,
      "outputs": [
        {
          "output_type": "execute_result",
          "data": {
            "text/plain": [
              "'model_1.png'"
            ],
            "application/vnd.google.colaboratory.intrinsic+json": {
              "type": "string"
            }
          },
          "metadata": {},
          "execution_count": 12
        }
      ]
    },
    {
      "cell_type": "markdown",
      "source": [
        "## Evaluation"
      ],
      "metadata": {
        "id": "O_oT7zZUXe-Z"
      }
    },
    {
      "cell_type": "code",
      "source": [
        "y_pred_train_1 = model_1.predict(X_train)  \n",
        "y_pred_test_1 = model_1.predict(X_test)\n",
        "print('Accuracy Score Train Data:', accuracy_score(y_train,y_pred_train_1))\n",
        "print('Accuracy Score Test Data:', accuracy_score(y_test,y_pred_test_1))\n"
      ],
      "metadata": {
        "colab": {
          "base_uri": "https://localhost:8080/"
        },
        "id": "hlf-GjCNHeIC",
        "outputId": "f703d698-2464-4564-d6ee-d1a120587c93"
      },
      "execution_count": 13,
      "outputs": [
        {
          "output_type": "stream",
          "name": "stdout",
          "text": [
            "Accuracy Score Train Data: 0.9873595505617978\n",
            "Accuracy Score Test Data: 0.776536312849162\n"
          ]
        }
      ]
    },
    {
      "cell_type": "code",
      "source": [
        "confusion_matrix_1 = pd.DataFrame(confusion_matrix(y_test, y_pred_test_1))\n",
        "\n",
        "confusion_matrix_1.index = ['nicht überlebt','überlebt']\n",
        "confusion_matrix_1.columns = ['Vorhersage nicht überlebt','Vorhersage überlebt']\n",
        "print(confusion_matrix_1)"
      ],
      "metadata": {
        "colab": {
          "base_uri": "https://localhost:8080/"
        },
        "id": "9pd7t2MYHqVH",
        "outputId": "5bb97a1f-a34f-4066-819c-704597af9fd3"
      },
      "execution_count": 14,
      "outputs": [
        {
          "output_type": "stream",
          "name": "stdout",
          "text": [
            "                Vorhersage nicht überlebt  Vorhersage überlebt\n",
            "nicht überlebt                         90                   16\n",
            "überlebt                               24                   49\n"
          ]
        }
      ]
    },
    {
      "cell_type": "markdown",
      "source": [
        "## Optimierung: Hyperparameteroptimierung"
      ],
      "metadata": {
        "id": "Ae9FE2JwXh31"
      }
    },
    {
      "cell_type": "code",
      "source": [
        "params = {\n",
        "    'criterion':['gini','entropy'],\n",
        "    'max_depth': [2, 3, 4, 5, 6, 7, 8, 9, 10],\n",
        "    'max_features': [2, 3, 4, 5, 6],\n",
        "    }"
      ],
      "metadata": {
        "id": "viN-XibdH9kA"
      },
      "execution_count": 15,
      "outputs": []
    },
    {
      "cell_type": "code",
      "source": [
        "grid_1 = GridSearchCV(model_1, \n",
        "                      param_grid = params, \n",
        "                      cv=5,\n",
        "                      verbose = 2)\n",
        "\n",
        "grid_1.fit(X_train, y_train)"
      ],
      "metadata": {
        "colab": {
          "base_uri": "https://localhost:8080/"
        },
        "id": "MFOtjLhxIHLU",
        "outputId": "88ecd414-d86a-4819-fc7c-c5a7e4963fd4"
      },
      "execution_count": 16,
      "outputs": [
        {
          "output_type": "stream",
          "name": "stdout",
          "text": [
            "Fitting 5 folds for each of 90 candidates, totalling 450 fits\n",
            "[CV] END ........criterion=gini, max_depth=2, max_features=2; total time=   0.0s\n",
            "[CV] END ........criterion=gini, max_depth=2, max_features=2; total time=   0.0s\n",
            "[CV] END ........criterion=gini, max_depth=2, max_features=2; total time=   0.0s\n",
            "[CV] END ........criterion=gini, max_depth=2, max_features=2; total time=   0.0s\n",
            "[CV] END ........criterion=gini, max_depth=2, max_features=2; total time=   0.0s\n",
            "[CV] END ........criterion=gini, max_depth=2, max_features=3; total time=   0.0s\n",
            "[CV] END ........criterion=gini, max_depth=2, max_features=3; total time=   0.0s\n",
            "[CV] END ........criterion=gini, max_depth=2, max_features=3; total time=   0.0s\n",
            "[CV] END ........criterion=gini, max_depth=2, max_features=3; total time=   0.0s\n",
            "[CV] END ........criterion=gini, max_depth=2, max_features=3; total time=   0.0s\n",
            "[CV] END ........criterion=gini, max_depth=2, max_features=4; total time=   0.0s\n",
            "[CV] END ........criterion=gini, max_depth=2, max_features=4; total time=   0.0s\n",
            "[CV] END ........criterion=gini, max_depth=2, max_features=4; total time=   0.0s\n",
            "[CV] END ........criterion=gini, max_depth=2, max_features=4; total time=   0.0s\n",
            "[CV] END ........criterion=gini, max_depth=2, max_features=4; total time=   0.0s\n",
            "[CV] END ........criterion=gini, max_depth=2, max_features=5; total time=   0.0s\n",
            "[CV] END ........criterion=gini, max_depth=2, max_features=5; total time=   0.0s\n",
            "[CV] END ........criterion=gini, max_depth=2, max_features=5; total time=   0.0s\n",
            "[CV] END ........criterion=gini, max_depth=2, max_features=5; total time=   0.0s\n",
            "[CV] END ........criterion=gini, max_depth=2, max_features=5; total time=   0.0s\n",
            "[CV] END ........criterion=gini, max_depth=2, max_features=6; total time=   0.0s\n",
            "[CV] END ........criterion=gini, max_depth=2, max_features=6; total time=   0.0s\n",
            "[CV] END ........criterion=gini, max_depth=2, max_features=6; total time=   0.0s\n",
            "[CV] END ........criterion=gini, max_depth=2, max_features=6; total time=   0.0s\n",
            "[CV] END ........criterion=gini, max_depth=2, max_features=6; total time=   0.0s\n",
            "[CV] END ........criterion=gini, max_depth=3, max_features=2; total time=   0.0s\n",
            "[CV] END ........criterion=gini, max_depth=3, max_features=2; total time=   0.0s\n",
            "[CV] END ........criterion=gini, max_depth=3, max_features=2; total time=   0.0s\n",
            "[CV] END ........criterion=gini, max_depth=3, max_features=2; total time=   0.0s\n",
            "[CV] END ........criterion=gini, max_depth=3, max_features=2; total time=   0.0s\n",
            "[CV] END ........criterion=gini, max_depth=3, max_features=3; total time=   0.0s\n",
            "[CV] END ........criterion=gini, max_depth=3, max_features=3; total time=   0.0s\n",
            "[CV] END ........criterion=gini, max_depth=3, max_features=3; total time=   0.0s\n",
            "[CV] END ........criterion=gini, max_depth=3, max_features=3; total time=   0.0s\n",
            "[CV] END ........criterion=gini, max_depth=3, max_features=3; total time=   0.0s\n",
            "[CV] END ........criterion=gini, max_depth=3, max_features=4; total time=   0.0s\n",
            "[CV] END ........criterion=gini, max_depth=3, max_features=4; total time=   0.0s\n",
            "[CV] END ........criterion=gini, max_depth=3, max_features=4; total time=   0.0s\n",
            "[CV] END ........criterion=gini, max_depth=3, max_features=4; total time=   0.0s\n",
            "[CV] END ........criterion=gini, max_depth=3, max_features=4; total time=   0.0s\n",
            "[CV] END ........criterion=gini, max_depth=3, max_features=5; total time=   0.0s\n",
            "[CV] END ........criterion=gini, max_depth=3, max_features=5; total time=   0.0s\n",
            "[CV] END ........criterion=gini, max_depth=3, max_features=5; total time=   0.0s\n",
            "[CV] END ........criterion=gini, max_depth=3, max_features=5; total time=   0.0s\n",
            "[CV] END ........criterion=gini, max_depth=3, max_features=5; total time=   0.0s\n",
            "[CV] END ........criterion=gini, max_depth=3, max_features=6; total time=   0.0s\n",
            "[CV] END ........criterion=gini, max_depth=3, max_features=6; total time=   0.0s\n",
            "[CV] END ........criterion=gini, max_depth=3, max_features=6; total time=   0.0s\n",
            "[CV] END ........criterion=gini, max_depth=3, max_features=6; total time=   0.0s\n",
            "[CV] END ........criterion=gini, max_depth=3, max_features=6; total time=   0.0s\n",
            "[CV] END ........criterion=gini, max_depth=4, max_features=2; total time=   0.0s\n",
            "[CV] END ........criterion=gini, max_depth=4, max_features=2; total time=   0.0s\n",
            "[CV] END ........criterion=gini, max_depth=4, max_features=2; total time=   0.0s\n",
            "[CV] END ........criterion=gini, max_depth=4, max_features=2; total time=   0.0s\n",
            "[CV] END ........criterion=gini, max_depth=4, max_features=2; total time=   0.0s\n",
            "[CV] END ........criterion=gini, max_depth=4, max_features=3; total time=   0.0s\n",
            "[CV] END ........criterion=gini, max_depth=4, max_features=3; total time=   0.0s\n",
            "[CV] END ........criterion=gini, max_depth=4, max_features=3; total time=   0.0s\n",
            "[CV] END ........criterion=gini, max_depth=4, max_features=3; total time=   0.0s\n",
            "[CV] END ........criterion=gini, max_depth=4, max_features=3; total time=   0.0s\n",
            "[CV] END ........criterion=gini, max_depth=4, max_features=4; total time=   0.0s\n",
            "[CV] END ........criterion=gini, max_depth=4, max_features=4; total time=   0.0s\n",
            "[CV] END ........criterion=gini, max_depth=4, max_features=4; total time=   0.0s\n",
            "[CV] END ........criterion=gini, max_depth=4, max_features=4; total time=   0.0s\n",
            "[CV] END ........criterion=gini, max_depth=4, max_features=4; total time=   0.0s\n",
            "[CV] END ........criterion=gini, max_depth=4, max_features=5; total time=   0.0s\n",
            "[CV] END ........criterion=gini, max_depth=4, max_features=5; total time=   0.0s\n",
            "[CV] END ........criterion=gini, max_depth=4, max_features=5; total time=   0.0s\n",
            "[CV] END ........criterion=gini, max_depth=4, max_features=5; total time=   0.0s\n",
            "[CV] END ........criterion=gini, max_depth=4, max_features=5; total time=   0.0s\n",
            "[CV] END ........criterion=gini, max_depth=4, max_features=6; total time=   0.0s\n",
            "[CV] END ........criterion=gini, max_depth=4, max_features=6; total time=   0.0s\n",
            "[CV] END ........criterion=gini, max_depth=4, max_features=6; total time=   0.0s\n",
            "[CV] END ........criterion=gini, max_depth=4, max_features=6; total time=   0.0s\n",
            "[CV] END ........criterion=gini, max_depth=4, max_features=6; total time=   0.0s\n",
            "[CV] END ........criterion=gini, max_depth=5, max_features=2; total time=   0.0s\n",
            "[CV] END ........criterion=gini, max_depth=5, max_features=2; total time=   0.0s\n",
            "[CV] END ........criterion=gini, max_depth=5, max_features=2; total time=   0.0s\n",
            "[CV] END ........criterion=gini, max_depth=5, max_features=2; total time=   0.0s\n",
            "[CV] END ........criterion=gini, max_depth=5, max_features=2; total time=   0.0s\n",
            "[CV] END ........criterion=gini, max_depth=5, max_features=3; total time=   0.0s\n",
            "[CV] END ........criterion=gini, max_depth=5, max_features=3; total time=   0.0s\n",
            "[CV] END ........criterion=gini, max_depth=5, max_features=3; total time=   0.0s\n",
            "[CV] END ........criterion=gini, max_depth=5, max_features=3; total time=   0.0s\n",
            "[CV] END ........criterion=gini, max_depth=5, max_features=3; total time=   0.0s\n",
            "[CV] END ........criterion=gini, max_depth=5, max_features=4; total time=   0.0s\n",
            "[CV] END ........criterion=gini, max_depth=5, max_features=4; total time=   0.0s\n",
            "[CV] END ........criterion=gini, max_depth=5, max_features=4; total time=   0.0s\n",
            "[CV] END ........criterion=gini, max_depth=5, max_features=4; total time=   0.0s\n",
            "[CV] END ........criterion=gini, max_depth=5, max_features=4; total time=   0.0s\n",
            "[CV] END ........criterion=gini, max_depth=5, max_features=5; total time=   0.0s\n",
            "[CV] END ........criterion=gini, max_depth=5, max_features=5; total time=   0.0s\n",
            "[CV] END ........criterion=gini, max_depth=5, max_features=5; total time=   0.0s\n",
            "[CV] END ........criterion=gini, max_depth=5, max_features=5; total time=   0.0s\n",
            "[CV] END ........criterion=gini, max_depth=5, max_features=5; total time=   0.0s\n",
            "[CV] END ........criterion=gini, max_depth=5, max_features=6; total time=   0.0s\n",
            "[CV] END ........criterion=gini, max_depth=5, max_features=6; total time=   0.0s\n",
            "[CV] END ........criterion=gini, max_depth=5, max_features=6; total time=   0.0s\n",
            "[CV] END ........criterion=gini, max_depth=5, max_features=6; total time=   0.0s\n",
            "[CV] END ........criterion=gini, max_depth=5, max_features=6; total time=   0.0s\n",
            "[CV] END ........criterion=gini, max_depth=6, max_features=2; total time=   0.0s\n",
            "[CV] END ........criterion=gini, max_depth=6, max_features=2; total time=   0.0s\n",
            "[CV] END ........criterion=gini, max_depth=6, max_features=2; total time=   0.0s\n",
            "[CV] END ........criterion=gini, max_depth=6, max_features=2; total time=   0.0s\n",
            "[CV] END ........criterion=gini, max_depth=6, max_features=2; total time=   0.0s\n",
            "[CV] END ........criterion=gini, max_depth=6, max_features=3; total time=   0.0s\n",
            "[CV] END ........criterion=gini, max_depth=6, max_features=3; total time=   0.0s\n",
            "[CV] END ........criterion=gini, max_depth=6, max_features=3; total time=   0.0s\n",
            "[CV] END ........criterion=gini, max_depth=6, max_features=3; total time=   0.0s\n",
            "[CV] END ........criterion=gini, max_depth=6, max_features=3; total time=   0.0s\n",
            "[CV] END ........criterion=gini, max_depth=6, max_features=4; total time=   0.0s\n",
            "[CV] END ........criterion=gini, max_depth=6, max_features=4; total time=   0.0s\n",
            "[CV] END ........criterion=gini, max_depth=6, max_features=4; total time=   0.0s\n",
            "[CV] END ........criterion=gini, max_depth=6, max_features=4; total time=   0.0s\n",
            "[CV] END ........criterion=gini, max_depth=6, max_features=4; total time=   0.0s\n",
            "[CV] END ........criterion=gini, max_depth=6, max_features=5; total time=   0.0s\n",
            "[CV] END ........criterion=gini, max_depth=6, max_features=5; total time=   0.0s\n",
            "[CV] END ........criterion=gini, max_depth=6, max_features=5; total time=   0.0s\n",
            "[CV] END ........criterion=gini, max_depth=6, max_features=5; total time=   0.0s\n",
            "[CV] END ........criterion=gini, max_depth=6, max_features=5; total time=   0.0s\n",
            "[CV] END ........criterion=gini, max_depth=6, max_features=6; total time=   0.0s\n",
            "[CV] END ........criterion=gini, max_depth=6, max_features=6; total time=   0.0s\n",
            "[CV] END ........criterion=gini, max_depth=6, max_features=6; total time=   0.0s\n",
            "[CV] END ........criterion=gini, max_depth=6, max_features=6; total time=   0.0s\n",
            "[CV] END ........criterion=gini, max_depth=6, max_features=6; total time=   0.0s\n",
            "[CV] END ........criterion=gini, max_depth=7, max_features=2; total time=   0.0s\n",
            "[CV] END ........criterion=gini, max_depth=7, max_features=2; total time=   0.0s\n",
            "[CV] END ........criterion=gini, max_depth=7, max_features=2; total time=   0.0s\n",
            "[CV] END ........criterion=gini, max_depth=7, max_features=2; total time=   0.0s\n",
            "[CV] END ........criterion=gini, max_depth=7, max_features=2; total time=   0.0s\n",
            "[CV] END ........criterion=gini, max_depth=7, max_features=3; total time=   0.0s\n",
            "[CV] END ........criterion=gini, max_depth=7, max_features=3; total time=   0.0s\n",
            "[CV] END ........criterion=gini, max_depth=7, max_features=3; total time=   0.0s\n",
            "[CV] END ........criterion=gini, max_depth=7, max_features=3; total time=   0.0s\n",
            "[CV] END ........criterion=gini, max_depth=7, max_features=3; total time=   0.0s\n",
            "[CV] END ........criterion=gini, max_depth=7, max_features=4; total time=   0.0s\n",
            "[CV] END ........criterion=gini, max_depth=7, max_features=4; total time=   0.0s\n",
            "[CV] END ........criterion=gini, max_depth=7, max_features=4; total time=   0.0s\n",
            "[CV] END ........criterion=gini, max_depth=7, max_features=4; total time=   0.0s\n",
            "[CV] END ........criterion=gini, max_depth=7, max_features=4; total time=   0.0s\n",
            "[CV] END ........criterion=gini, max_depth=7, max_features=5; total time=   0.0s\n",
            "[CV] END ........criterion=gini, max_depth=7, max_features=5; total time=   0.0s\n",
            "[CV] END ........criterion=gini, max_depth=7, max_features=5; total time=   0.0s\n",
            "[CV] END ........criterion=gini, max_depth=7, max_features=5; total time=   0.0s\n",
            "[CV] END ........criterion=gini, max_depth=7, max_features=5; total time=   0.0s\n",
            "[CV] END ........criterion=gini, max_depth=7, max_features=6; total time=   0.0s\n",
            "[CV] END ........criterion=gini, max_depth=7, max_features=6; total time=   0.0s\n",
            "[CV] END ........criterion=gini, max_depth=7, max_features=6; total time=   0.0s\n",
            "[CV] END ........criterion=gini, max_depth=7, max_features=6; total time=   0.0s\n",
            "[CV] END ........criterion=gini, max_depth=7, max_features=6; total time=   0.0s\n",
            "[CV] END ........criterion=gini, max_depth=8, max_features=2; total time=   0.0s\n",
            "[CV] END ........criterion=gini, max_depth=8, max_features=2; total time=   0.0s\n",
            "[CV] END ........criterion=gini, max_depth=8, max_features=2; total time=   0.0s\n",
            "[CV] END ........criterion=gini, max_depth=8, max_features=2; total time=   0.0s\n",
            "[CV] END ........criterion=gini, max_depth=8, max_features=2; total time=   0.0s\n",
            "[CV] END ........criterion=gini, max_depth=8, max_features=3; total time=   0.0s\n",
            "[CV] END ........criterion=gini, max_depth=8, max_features=3; total time=   0.0s\n",
            "[CV] END ........criterion=gini, max_depth=8, max_features=3; total time=   0.0s\n",
            "[CV] END ........criterion=gini, max_depth=8, max_features=3; total time=   0.0s\n",
            "[CV] END ........criterion=gini, max_depth=8, max_features=3; total time=   0.0s\n",
            "[CV] END ........criterion=gini, max_depth=8, max_features=4; total time=   0.0s\n",
            "[CV] END ........criterion=gini, max_depth=8, max_features=4; total time=   0.0s\n",
            "[CV] END ........criterion=gini, max_depth=8, max_features=4; total time=   0.0s\n",
            "[CV] END ........criterion=gini, max_depth=8, max_features=4; total time=   0.0s\n",
            "[CV] END ........criterion=gini, max_depth=8, max_features=4; total time=   0.0s\n",
            "[CV] END ........criterion=gini, max_depth=8, max_features=5; total time=   0.0s\n",
            "[CV] END ........criterion=gini, max_depth=8, max_features=5; total time=   0.0s\n",
            "[CV] END ........criterion=gini, max_depth=8, max_features=5; total time=   0.0s\n",
            "[CV] END ........criterion=gini, max_depth=8, max_features=5; total time=   0.0s\n",
            "[CV] END ........criterion=gini, max_depth=8, max_features=5; total time=   0.0s\n",
            "[CV] END ........criterion=gini, max_depth=8, max_features=6; total time=   0.0s\n",
            "[CV] END ........criterion=gini, max_depth=8, max_features=6; total time=   0.0s\n",
            "[CV] END ........criterion=gini, max_depth=8, max_features=6; total time=   0.0s\n",
            "[CV] END ........criterion=gini, max_depth=8, max_features=6; total time=   0.0s\n",
            "[CV] END ........criterion=gini, max_depth=8, max_features=6; total time=   0.0s\n",
            "[CV] END ........criterion=gini, max_depth=9, max_features=2; total time=   0.0s\n",
            "[CV] END ........criterion=gini, max_depth=9, max_features=2; total time=   0.0s\n",
            "[CV] END ........criterion=gini, max_depth=9, max_features=2; total time=   0.0s\n",
            "[CV] END ........criterion=gini, max_depth=9, max_features=2; total time=   0.0s\n",
            "[CV] END ........criterion=gini, max_depth=9, max_features=2; total time=   0.0s\n",
            "[CV] END ........criterion=gini, max_depth=9, max_features=3; total time=   0.0s\n",
            "[CV] END ........criterion=gini, max_depth=9, max_features=3; total time=   0.0s\n",
            "[CV] END ........criterion=gini, max_depth=9, max_features=3; total time=   0.0s\n",
            "[CV] END ........criterion=gini, max_depth=9, max_features=3; total time=   0.0s\n",
            "[CV] END ........criterion=gini, max_depth=9, max_features=3; total time=   0.0s\n",
            "[CV] END ........criterion=gini, max_depth=9, max_features=4; total time=   0.0s\n",
            "[CV] END ........criterion=gini, max_depth=9, max_features=4; total time=   0.0s\n",
            "[CV] END ........criterion=gini, max_depth=9, max_features=4; total time=   0.0s\n",
            "[CV] END ........criterion=gini, max_depth=9, max_features=4; total time=   0.0s\n",
            "[CV] END ........criterion=gini, max_depth=9, max_features=4; total time=   0.0s\n",
            "[CV] END ........criterion=gini, max_depth=9, max_features=5; total time=   0.0s\n",
            "[CV] END ........criterion=gini, max_depth=9, max_features=5; total time=   0.0s\n",
            "[CV] END ........criterion=gini, max_depth=9, max_features=5; total time=   0.0s\n",
            "[CV] END ........criterion=gini, max_depth=9, max_features=5; total time=   0.0s\n",
            "[CV] END ........criterion=gini, max_depth=9, max_features=5; total time=   0.0s\n",
            "[CV] END ........criterion=gini, max_depth=9, max_features=6; total time=   0.0s\n",
            "[CV] END ........criterion=gini, max_depth=9, max_features=6; total time=   0.0s\n",
            "[CV] END ........criterion=gini, max_depth=9, max_features=6; total time=   0.0s\n",
            "[CV] END ........criterion=gini, max_depth=9, max_features=6; total time=   0.0s\n",
            "[CV] END ........criterion=gini, max_depth=9, max_features=6; total time=   0.0s\n",
            "[CV] END .......criterion=gini, max_depth=10, max_features=2; total time=   0.0s\n",
            "[CV] END .......criterion=gini, max_depth=10, max_features=2; total time=   0.0s\n",
            "[CV] END .......criterion=gini, max_depth=10, max_features=2; total time=   0.0s\n",
            "[CV] END .......criterion=gini, max_depth=10, max_features=2; total time=   0.0s\n",
            "[CV] END .......criterion=gini, max_depth=10, max_features=2; total time=   0.0s\n",
            "[CV] END .......criterion=gini, max_depth=10, max_features=3; total time=   0.0s\n",
            "[CV] END .......criterion=gini, max_depth=10, max_features=3; total time=   0.0s\n",
            "[CV] END .......criterion=gini, max_depth=10, max_features=3; total time=   0.0s\n",
            "[CV] END .......criterion=gini, max_depth=10, max_features=3; total time=   0.0s\n",
            "[CV] END .......criterion=gini, max_depth=10, max_features=3; total time=   0.0s\n",
            "[CV] END .......criterion=gini, max_depth=10, max_features=4; total time=   0.0s\n",
            "[CV] END .......criterion=gini, max_depth=10, max_features=4; total time=   0.0s\n",
            "[CV] END .......criterion=gini, max_depth=10, max_features=4; total time=   0.0s\n",
            "[CV] END .......criterion=gini, max_depth=10, max_features=4; total time=   0.0s\n",
            "[CV] END .......criterion=gini, max_depth=10, max_features=4; total time=   0.0s\n",
            "[CV] END .......criterion=gini, max_depth=10, max_features=5; total time=   0.0s\n",
            "[CV] END .......criterion=gini, max_depth=10, max_features=5; total time=   0.0s\n",
            "[CV] END .......criterion=gini, max_depth=10, max_features=5; total time=   0.0s\n",
            "[CV] END .......criterion=gini, max_depth=10, max_features=5; total time=   0.0s\n",
            "[CV] END .......criterion=gini, max_depth=10, max_features=5; total time=   0.0s\n",
            "[CV] END .......criterion=gini, max_depth=10, max_features=6; total time=   0.0s\n",
            "[CV] END .......criterion=gini, max_depth=10, max_features=6; total time=   0.0s\n",
            "[CV] END .......criterion=gini, max_depth=10, max_features=6; total time=   0.0s\n",
            "[CV] END .......criterion=gini, max_depth=10, max_features=6; total time=   0.0s\n",
            "[CV] END .......criterion=gini, max_depth=10, max_features=6; total time=   0.0s\n",
            "[CV] END .....criterion=entropy, max_depth=2, max_features=2; total time=   0.0s\n",
            "[CV] END .....criterion=entropy, max_depth=2, max_features=2; total time=   0.0s\n",
            "[CV] END .....criterion=entropy, max_depth=2, max_features=2; total time=   0.0s\n",
            "[CV] END .....criterion=entropy, max_depth=2, max_features=2; total time=   0.0s\n",
            "[CV] END .....criterion=entropy, max_depth=2, max_features=2; total time=   0.0s\n",
            "[CV] END .....criterion=entropy, max_depth=2, max_features=3; total time=   0.0s\n",
            "[CV] END .....criterion=entropy, max_depth=2, max_features=3; total time=   0.0s\n",
            "[CV] END .....criterion=entropy, max_depth=2, max_features=3; total time=   0.0s\n",
            "[CV] END .....criterion=entropy, max_depth=2, max_features=3; total time=   0.0s\n",
            "[CV] END .....criterion=entropy, max_depth=2, max_features=3; total time=   0.0s\n",
            "[CV] END .....criterion=entropy, max_depth=2, max_features=4; total time=   0.0s\n",
            "[CV] END .....criterion=entropy, max_depth=2, max_features=4; total time=   0.0s\n",
            "[CV] END .....criterion=entropy, max_depth=2, max_features=4; total time=   0.0s\n",
            "[CV] END .....criterion=entropy, max_depth=2, max_features=4; total time=   0.0s\n",
            "[CV] END .....criterion=entropy, max_depth=2, max_features=4; total time=   0.0s\n",
            "[CV] END .....criterion=entropy, max_depth=2, max_features=5; total time=   0.0s\n",
            "[CV] END .....criterion=entropy, max_depth=2, max_features=5; total time=   0.0s\n",
            "[CV] END .....criterion=entropy, max_depth=2, max_features=5; total time=   0.0s\n",
            "[CV] END .....criterion=entropy, max_depth=2, max_features=5; total time=   0.0s\n",
            "[CV] END .....criterion=entropy, max_depth=2, max_features=5; total time=   0.0s\n",
            "[CV] END .....criterion=entropy, max_depth=2, max_features=6; total time=   0.0s\n",
            "[CV] END .....criterion=entropy, max_depth=2, max_features=6; total time=   0.0s\n",
            "[CV] END .....criterion=entropy, max_depth=2, max_features=6; total time=   0.0s\n",
            "[CV] END .....criterion=entropy, max_depth=2, max_features=6; total time=   0.0s\n",
            "[CV] END .....criterion=entropy, max_depth=2, max_features=6; total time=   0.0s\n",
            "[CV] END .....criterion=entropy, max_depth=3, max_features=2; total time=   0.0s\n",
            "[CV] END .....criterion=entropy, max_depth=3, max_features=2; total time=   0.0s\n",
            "[CV] END .....criterion=entropy, max_depth=3, max_features=2; total time=   0.0s\n",
            "[CV] END .....criterion=entropy, max_depth=3, max_features=2; total time=   0.0s\n",
            "[CV] END .....criterion=entropy, max_depth=3, max_features=2; total time=   0.0s\n",
            "[CV] END .....criterion=entropy, max_depth=3, max_features=3; total time=   0.0s\n",
            "[CV] END .....criterion=entropy, max_depth=3, max_features=3; total time=   0.0s\n",
            "[CV] END .....criterion=entropy, max_depth=3, max_features=3; total time=   0.0s\n",
            "[CV] END .....criterion=entropy, max_depth=3, max_features=3; total time=   0.0s\n",
            "[CV] END .....criterion=entropy, max_depth=3, max_features=3; total time=   0.0s\n",
            "[CV] END .....criterion=entropy, max_depth=3, max_features=4; total time=   0.0s\n",
            "[CV] END .....criterion=entropy, max_depth=3, max_features=4; total time=   0.0s\n",
            "[CV] END .....criterion=entropy, max_depth=3, max_features=4; total time=   0.0s\n",
            "[CV] END .....criterion=entropy, max_depth=3, max_features=4; total time=   0.0s\n",
            "[CV] END .....criterion=entropy, max_depth=3, max_features=4; total time=   0.0s\n",
            "[CV] END .....criterion=entropy, max_depth=3, max_features=5; total time=   0.0s\n",
            "[CV] END .....criterion=entropy, max_depth=3, max_features=5; total time=   0.0s\n",
            "[CV] END .....criterion=entropy, max_depth=3, max_features=5; total time=   0.0s\n",
            "[CV] END .....criterion=entropy, max_depth=3, max_features=5; total time=   0.0s\n",
            "[CV] END .....criterion=entropy, max_depth=3, max_features=5; total time=   0.0s\n",
            "[CV] END .....criterion=entropy, max_depth=3, max_features=6; total time=   0.0s\n",
            "[CV] END .....criterion=entropy, max_depth=3, max_features=6; total time=   0.0s\n",
            "[CV] END .....criterion=entropy, max_depth=3, max_features=6; total time=   0.0s\n",
            "[CV] END .....criterion=entropy, max_depth=3, max_features=6; total time=   0.0s\n",
            "[CV] END .....criterion=entropy, max_depth=3, max_features=6; total time=   0.0s\n",
            "[CV] END .....criterion=entropy, max_depth=4, max_features=2; total time=   0.0s\n",
            "[CV] END .....criterion=entropy, max_depth=4, max_features=2; total time=   0.0s\n",
            "[CV] END .....criterion=entropy, max_depth=4, max_features=2; total time=   0.0s\n",
            "[CV] END .....criterion=entropy, max_depth=4, max_features=2; total time=   0.0s\n",
            "[CV] END .....criterion=entropy, max_depth=4, max_features=2; total time=   0.0s\n",
            "[CV] END .....criterion=entropy, max_depth=4, max_features=3; total time=   0.0s\n",
            "[CV] END .....criterion=entropy, max_depth=4, max_features=3; total time=   0.0s\n",
            "[CV] END .....criterion=entropy, max_depth=4, max_features=3; total time=   0.0s\n",
            "[CV] END .....criterion=entropy, max_depth=4, max_features=3; total time=   0.0s\n",
            "[CV] END .....criterion=entropy, max_depth=4, max_features=3; total time=   0.0s\n",
            "[CV] END .....criterion=entropy, max_depth=4, max_features=4; total time=   0.0s\n",
            "[CV] END .....criterion=entropy, max_depth=4, max_features=4; total time=   0.0s\n",
            "[CV] END .....criterion=entropy, max_depth=4, max_features=4; total time=   0.0s\n",
            "[CV] END .....criterion=entropy, max_depth=4, max_features=4; total time=   0.0s\n",
            "[CV] END .....criterion=entropy, max_depth=4, max_features=4; total time=   0.0s\n",
            "[CV] END .....criterion=entropy, max_depth=4, max_features=5; total time=   0.0s\n",
            "[CV] END .....criterion=entropy, max_depth=4, max_features=5; total time=   0.0s\n",
            "[CV] END .....criterion=entropy, max_depth=4, max_features=5; total time=   0.0s\n",
            "[CV] END .....criterion=entropy, max_depth=4, max_features=5; total time=   0.0s\n",
            "[CV] END .....criterion=entropy, max_depth=4, max_features=5; total time=   0.0s\n",
            "[CV] END .....criterion=entropy, max_depth=4, max_features=6; total time=   0.0s\n",
            "[CV] END .....criterion=entropy, max_depth=4, max_features=6; total time=   0.0s\n",
            "[CV] END .....criterion=entropy, max_depth=4, max_features=6; total time=   0.0s\n",
            "[CV] END .....criterion=entropy, max_depth=4, max_features=6; total time=   0.0s\n",
            "[CV] END .....criterion=entropy, max_depth=4, max_features=6; total time=   0.0s\n",
            "[CV] END .....criterion=entropy, max_depth=5, max_features=2; total time=   0.0s\n",
            "[CV] END .....criterion=entropy, max_depth=5, max_features=2; total time=   0.0s\n",
            "[CV] END .....criterion=entropy, max_depth=5, max_features=2; total time=   0.0s\n",
            "[CV] END .....criterion=entropy, max_depth=5, max_features=2; total time=   0.0s\n",
            "[CV] END .....criterion=entropy, max_depth=5, max_features=2; total time=   0.0s\n",
            "[CV] END .....criterion=entropy, max_depth=5, max_features=3; total time=   0.0s\n",
            "[CV] END .....criterion=entropy, max_depth=5, max_features=3; total time=   0.0s\n",
            "[CV] END .....criterion=entropy, max_depth=5, max_features=3; total time=   0.0s\n",
            "[CV] END .....criterion=entropy, max_depth=5, max_features=3; total time=   0.0s\n",
            "[CV] END .....criterion=entropy, max_depth=5, max_features=3; total time=   0.0s\n",
            "[CV] END .....criterion=entropy, max_depth=5, max_features=4; total time=   0.0s\n",
            "[CV] END .....criterion=entropy, max_depth=5, max_features=4; total time=   0.0s\n",
            "[CV] END .....criterion=entropy, max_depth=5, max_features=4; total time=   0.0s\n",
            "[CV] END .....criterion=entropy, max_depth=5, max_features=4; total time=   0.0s\n",
            "[CV] END .....criterion=entropy, max_depth=5, max_features=4; total time=   0.0s\n",
            "[CV] END .....criterion=entropy, max_depth=5, max_features=5; total time=   0.0s\n",
            "[CV] END .....criterion=entropy, max_depth=5, max_features=5; total time=   0.0s\n",
            "[CV] END .....criterion=entropy, max_depth=5, max_features=5; total time=   0.0s\n",
            "[CV] END .....criterion=entropy, max_depth=5, max_features=5; total time=   0.0s\n",
            "[CV] END .....criterion=entropy, max_depth=5, max_features=5; total time=   0.0s\n",
            "[CV] END .....criterion=entropy, max_depth=5, max_features=6; total time=   0.0s\n",
            "[CV] END .....criterion=entropy, max_depth=5, max_features=6; total time=   0.0s\n",
            "[CV] END .....criterion=entropy, max_depth=5, max_features=6; total time=   0.0s\n",
            "[CV] END .....criterion=entropy, max_depth=5, max_features=6; total time=   0.0s\n",
            "[CV] END .....criterion=entropy, max_depth=5, max_features=6; total time=   0.0s\n",
            "[CV] END .....criterion=entropy, max_depth=6, max_features=2; total time=   0.0s\n",
            "[CV] END .....criterion=entropy, max_depth=6, max_features=2; total time=   0.0s\n",
            "[CV] END .....criterion=entropy, max_depth=6, max_features=2; total time=   0.0s\n",
            "[CV] END .....criterion=entropy, max_depth=6, max_features=2; total time=   0.0s\n",
            "[CV] END .....criterion=entropy, max_depth=6, max_features=2; total time=   0.0s\n",
            "[CV] END .....criterion=entropy, max_depth=6, max_features=3; total time=   0.0s\n",
            "[CV] END .....criterion=entropy, max_depth=6, max_features=3; total time=   0.0s\n",
            "[CV] END .....criterion=entropy, max_depth=6, max_features=3; total time=   0.0s\n",
            "[CV] END .....criterion=entropy, max_depth=6, max_features=3; total time=   0.0s\n",
            "[CV] END .....criterion=entropy, max_depth=6, max_features=3; total time=   0.0s\n",
            "[CV] END .....criterion=entropy, max_depth=6, max_features=4; total time=   0.0s\n",
            "[CV] END .....criterion=entropy, max_depth=6, max_features=4; total time=   0.0s\n",
            "[CV] END .....criterion=entropy, max_depth=6, max_features=4; total time=   0.0s\n",
            "[CV] END .....criterion=entropy, max_depth=6, max_features=4; total time=   0.0s\n",
            "[CV] END .....criterion=entropy, max_depth=6, max_features=4; total time=   0.0s\n",
            "[CV] END .....criterion=entropy, max_depth=6, max_features=5; total time=   0.0s\n",
            "[CV] END .....criterion=entropy, max_depth=6, max_features=5; total time=   0.0s\n",
            "[CV] END .....criterion=entropy, max_depth=6, max_features=5; total time=   0.0s\n",
            "[CV] END .....criterion=entropy, max_depth=6, max_features=5; total time=   0.0s\n",
            "[CV] END .....criterion=entropy, max_depth=6, max_features=5; total time=   0.0s\n",
            "[CV] END .....criterion=entropy, max_depth=6, max_features=6; total time=   0.0s\n",
            "[CV] END .....criterion=entropy, max_depth=6, max_features=6; total time=   0.0s\n",
            "[CV] END .....criterion=entropy, max_depth=6, max_features=6; total time=   0.0s\n",
            "[CV] END .....criterion=entropy, max_depth=6, max_features=6; total time=   0.0s\n",
            "[CV] END .....criterion=entropy, max_depth=6, max_features=6; total time=   0.0s\n",
            "[CV] END .....criterion=entropy, max_depth=7, max_features=2; total time=   0.0s\n",
            "[CV] END .....criterion=entropy, max_depth=7, max_features=2; total time=   0.0s\n",
            "[CV] END .....criterion=entropy, max_depth=7, max_features=2; total time=   0.0s\n",
            "[CV] END .....criterion=entropy, max_depth=7, max_features=2; total time=   0.0s\n",
            "[CV] END .....criterion=entropy, max_depth=7, max_features=2; total time=   0.0s\n",
            "[CV] END .....criterion=entropy, max_depth=7, max_features=3; total time=   0.0s\n",
            "[CV] END .....criterion=entropy, max_depth=7, max_features=3; total time=   0.0s\n",
            "[CV] END .....criterion=entropy, max_depth=7, max_features=3; total time=   0.0s\n",
            "[CV] END .....criterion=entropy, max_depth=7, max_features=3; total time=   0.0s\n",
            "[CV] END .....criterion=entropy, max_depth=7, max_features=3; total time=   0.0s\n",
            "[CV] END .....criterion=entropy, max_depth=7, max_features=4; total time=   0.0s\n",
            "[CV] END .....criterion=entropy, max_depth=7, max_features=4; total time=   0.0s\n",
            "[CV] END .....criterion=entropy, max_depth=7, max_features=4; total time=   0.0s\n",
            "[CV] END .....criterion=entropy, max_depth=7, max_features=4; total time=   0.0s\n",
            "[CV] END .....criterion=entropy, max_depth=7, max_features=4; total time=   0.0s\n",
            "[CV] END .....criterion=entropy, max_depth=7, max_features=5; total time=   0.0s\n",
            "[CV] END .....criterion=entropy, max_depth=7, max_features=5; total time=   0.0s\n",
            "[CV] END .....criterion=entropy, max_depth=7, max_features=5; total time=   0.0s\n",
            "[CV] END .....criterion=entropy, max_depth=7, max_features=5; total time=   0.0s\n",
            "[CV] END .....criterion=entropy, max_depth=7, max_features=5; total time=   0.0s\n",
            "[CV] END .....criterion=entropy, max_depth=7, max_features=6; total time=   0.0s\n",
            "[CV] END .....criterion=entropy, max_depth=7, max_features=6; total time=   0.0s\n",
            "[CV] END .....criterion=entropy, max_depth=7, max_features=6; total time=   0.0s\n",
            "[CV] END .....criterion=entropy, max_depth=7, max_features=6; total time=   0.0s\n",
            "[CV] END .....criterion=entropy, max_depth=7, max_features=6; total time=   0.0s\n",
            "[CV] END .....criterion=entropy, max_depth=8, max_features=2; total time=   0.0s\n",
            "[CV] END .....criterion=entropy, max_depth=8, max_features=2; total time=   0.0s\n",
            "[CV] END .....criterion=entropy, max_depth=8, max_features=2; total time=   0.0s\n",
            "[CV] END .....criterion=entropy, max_depth=8, max_features=2; total time=   0.0s\n",
            "[CV] END .....criterion=entropy, max_depth=8, max_features=2; total time=   0.0s\n",
            "[CV] END .....criterion=entropy, max_depth=8, max_features=3; total time=   0.0s\n",
            "[CV] END .....criterion=entropy, max_depth=8, max_features=3; total time=   0.0s\n",
            "[CV] END .....criterion=entropy, max_depth=8, max_features=3; total time=   0.0s\n",
            "[CV] END .....criterion=entropy, max_depth=8, max_features=3; total time=   0.0s\n",
            "[CV] END .....criterion=entropy, max_depth=8, max_features=3; total time=   0.0s\n",
            "[CV] END .....criterion=entropy, max_depth=8, max_features=4; total time=   0.0s\n",
            "[CV] END .....criterion=entropy, max_depth=8, max_features=4; total time=   0.0s\n",
            "[CV] END .....criterion=entropy, max_depth=8, max_features=4; total time=   0.0s\n",
            "[CV] END .....criterion=entropy, max_depth=8, max_features=4; total time=   0.0s\n",
            "[CV] END .....criterion=entropy, max_depth=8, max_features=4; total time=   0.0s\n",
            "[CV] END .....criterion=entropy, max_depth=8, max_features=5; total time=   0.0s\n",
            "[CV] END .....criterion=entropy, max_depth=8, max_features=5; total time=   0.0s\n",
            "[CV] END .....criterion=entropy, max_depth=8, max_features=5; total time=   0.0s\n",
            "[CV] END .....criterion=entropy, max_depth=8, max_features=5; total time=   0.0s\n",
            "[CV] END .....criterion=entropy, max_depth=8, max_features=5; total time=   0.0s\n",
            "[CV] END .....criterion=entropy, max_depth=8, max_features=6; total time=   0.0s\n",
            "[CV] END .....criterion=entropy, max_depth=8, max_features=6; total time=   0.0s\n",
            "[CV] END .....criterion=entropy, max_depth=8, max_features=6; total time=   0.0s\n",
            "[CV] END .....criterion=entropy, max_depth=8, max_features=6; total time=   0.0s\n",
            "[CV] END .....criterion=entropy, max_depth=8, max_features=6; total time=   0.0s\n",
            "[CV] END .....criterion=entropy, max_depth=9, max_features=2; total time=   0.0s\n",
            "[CV] END .....criterion=entropy, max_depth=9, max_features=2; total time=   0.0s\n",
            "[CV] END .....criterion=entropy, max_depth=9, max_features=2; total time=   0.0s\n",
            "[CV] END .....criterion=entropy, max_depth=9, max_features=2; total time=   0.0s\n",
            "[CV] END .....criterion=entropy, max_depth=9, max_features=2; total time=   0.0s\n",
            "[CV] END .....criterion=entropy, max_depth=9, max_features=3; total time=   0.0s\n",
            "[CV] END .....criterion=entropy, max_depth=9, max_features=3; total time=   0.0s\n",
            "[CV] END .....criterion=entropy, max_depth=9, max_features=3; total time=   0.0s\n",
            "[CV] END .....criterion=entropy, max_depth=9, max_features=3; total time=   0.0s\n",
            "[CV] END .....criterion=entropy, max_depth=9, max_features=3; total time=   0.0s\n",
            "[CV] END .....criterion=entropy, max_depth=9, max_features=4; total time=   0.0s\n",
            "[CV] END .....criterion=entropy, max_depth=9, max_features=4; total time=   0.0s\n",
            "[CV] END .....criterion=entropy, max_depth=9, max_features=4; total time=   0.0s\n",
            "[CV] END .....criterion=entropy, max_depth=9, max_features=4; total time=   0.0s\n",
            "[CV] END .....criterion=entropy, max_depth=9, max_features=4; total time=   0.0s\n",
            "[CV] END .....criterion=entropy, max_depth=9, max_features=5; total time=   0.0s\n",
            "[CV] END .....criterion=entropy, max_depth=9, max_features=5; total time=   0.0s\n",
            "[CV] END .....criterion=entropy, max_depth=9, max_features=5; total time=   0.0s\n",
            "[CV] END .....criterion=entropy, max_depth=9, max_features=5; total time=   0.0s\n",
            "[CV] END .....criterion=entropy, max_depth=9, max_features=5; total time=   0.0s\n",
            "[CV] END .....criterion=entropy, max_depth=9, max_features=6; total time=   0.0s\n",
            "[CV] END .....criterion=entropy, max_depth=9, max_features=6; total time=   0.0s\n",
            "[CV] END .....criterion=entropy, max_depth=9, max_features=6; total time=   0.0s\n",
            "[CV] END .....criterion=entropy, max_depth=9, max_features=6; total time=   0.0s\n",
            "[CV] END .....criterion=entropy, max_depth=9, max_features=6; total time=   0.0s\n",
            "[CV] END ....criterion=entropy, max_depth=10, max_features=2; total time=   0.0s\n",
            "[CV] END ....criterion=entropy, max_depth=10, max_features=2; total time=   0.0s\n",
            "[CV] END ....criterion=entropy, max_depth=10, max_features=2; total time=   0.0s\n",
            "[CV] END ....criterion=entropy, max_depth=10, max_features=2; total time=   0.0s\n",
            "[CV] END ....criterion=entropy, max_depth=10, max_features=2; total time=   0.0s\n",
            "[CV] END ....criterion=entropy, max_depth=10, max_features=3; total time=   0.0s\n",
            "[CV] END ....criterion=entropy, max_depth=10, max_features=3; total time=   0.0s\n",
            "[CV] END ....criterion=entropy, max_depth=10, max_features=3; total time=   0.0s\n",
            "[CV] END ....criterion=entropy, max_depth=10, max_features=3; total time=   0.0s\n",
            "[CV] END ....criterion=entropy, max_depth=10, max_features=3; total time=   0.0s\n",
            "[CV] END ....criterion=entropy, max_depth=10, max_features=4; total time=   0.0s\n",
            "[CV] END ....criterion=entropy, max_depth=10, max_features=4; total time=   0.0s\n",
            "[CV] END ....criterion=entropy, max_depth=10, max_features=4; total time=   0.0s\n",
            "[CV] END ....criterion=entropy, max_depth=10, max_features=4; total time=   0.0s\n",
            "[CV] END ....criterion=entropy, max_depth=10, max_features=4; total time=   0.0s\n",
            "[CV] END ....criterion=entropy, max_depth=10, max_features=5; total time=   0.0s\n",
            "[CV] END ....criterion=entropy, max_depth=10, max_features=5; total time=   0.0s\n",
            "[CV] END ....criterion=entropy, max_depth=10, max_features=5; total time=   0.0s\n",
            "[CV] END ....criterion=entropy, max_depth=10, max_features=5; total time=   0.0s\n",
            "[CV] END ....criterion=entropy, max_depth=10, max_features=5; total time=   0.0s\n",
            "[CV] END ....criterion=entropy, max_depth=10, max_features=6; total time=   0.0s\n",
            "[CV] END ....criterion=entropy, max_depth=10, max_features=6; total time=   0.0s\n",
            "[CV] END ....criterion=entropy, max_depth=10, max_features=6; total time=   0.0s\n",
            "[CV] END ....criterion=entropy, max_depth=10, max_features=6; total time=   0.0s\n",
            "[CV] END ....criterion=entropy, max_depth=10, max_features=6; total time=   0.0s\n"
          ]
        },
        {
          "output_type": "execute_result",
          "data": {
            "text/plain": [
              "GridSearchCV(cv=5, estimator=DecisionTreeClassifier(random_state=0),\n",
              "             param_grid={'criterion': ['gini', 'entropy'],\n",
              "                         'max_depth': [2, 3, 4, 5, 6, 7, 8, 9, 10],\n",
              "                         'max_features': [2, 3, 4, 5, 6]},\n",
              "             verbose=2)"
            ]
          },
          "metadata": {},
          "execution_count": 16
        }
      ]
    },
    {
      "cell_type": "code",
      "source": [
        "grid_1.best_estimator_ "
      ],
      "metadata": {
        "colab": {
          "base_uri": "https://localhost:8080/"
        },
        "id": "tSVb_eVEIbP4",
        "outputId": "2ae0f4c5-9283-48a3-c10f-3907162bbb57"
      },
      "execution_count": 17,
      "outputs": [
        {
          "output_type": "execute_result",
          "data": {
            "text/plain": [
              "DecisionTreeClassifier(max_depth=6, max_features=5, random_state=0)"
            ]
          },
          "metadata": {},
          "execution_count": 17
        }
      ]
    },
    {
      "cell_type": "code",
      "source": [
        "model_2 = DecisionTreeClassifier(random_state = 0,\n",
        "                                         max_depth = 6,\n",
        "                                         max_features = 5)\n",
        "model_2.fit(X_train, y_train)"
      ],
      "metadata": {
        "colab": {
          "base_uri": "https://localhost:8080/"
        },
        "id": "SqePizSpIfYK",
        "outputId": "498af302-71cd-441a-a57a-79b4e6742771"
      },
      "execution_count": 18,
      "outputs": [
        {
          "output_type": "execute_result",
          "data": {
            "text/plain": [
              "DecisionTreeClassifier(max_depth=6, max_features=5, random_state=0)"
            ]
          },
          "metadata": {},
          "execution_count": 18
        }
      ]
    },
    {
      "cell_type": "code",
      "source": [
        "graph_2 = Source( export_graphviz(model_2, \n",
        "                                  out_file=None,\n",
        "                                  filled=True,\n",
        "                                  rounded=True,  \n",
        "                                  special_characters=True, \n",
        "                                  feature_names=X.columns))\n",
        "graph_2.format = 'png'\n",
        "graph_2.render('model_2',view = True)"
      ],
      "metadata": {
        "colab": {
          "base_uri": "https://localhost:8080/",
          "height": 35
        },
        "id": "SMnoNu1hf-_2",
        "outputId": "e3b82541-ab7a-47f1-c793-ccf0b74e088d"
      },
      "execution_count": 19,
      "outputs": [
        {
          "output_type": "execute_result",
          "data": {
            "text/plain": [
              "'model_2.png'"
            ],
            "application/vnd.google.colaboratory.intrinsic+json": {
              "type": "string"
            }
          },
          "metadata": {},
          "execution_count": 19
        }
      ]
    },
    {
      "cell_type": "code",
      "source": [
        "y_pred_train_2 = model_2.predict(X_train)  \n",
        "y_pred_test_2 = model_2.predict(X_test)\n",
        "print('Accuracy Score Train Data:', accuracy_score(y_train,y_pred_train_2))\n",
        "print('Accuracy Score Test Data:', accuracy_score(y_test,y_pred_test_2))"
      ],
      "metadata": {
        "colab": {
          "base_uri": "https://localhost:8080/"
        },
        "id": "mOlGB11DIrJn",
        "outputId": "7f207b86-7abc-4bad-f350-58cf2697025c"
      },
      "execution_count": 20,
      "outputs": [
        {
          "output_type": "stream",
          "name": "stdout",
          "text": [
            "Accuracy Score Train Data: 0.8693820224719101\n",
            "Accuracy Score Test Data: 0.7821229050279329\n"
          ]
        }
      ]
    },
    {
      "cell_type": "code",
      "source": [
        "confusion_matrix_2 = pd.DataFrame(confusion_matrix(y_test, y_pred_test_2))\n",
        "\n",
        "confusion_matrix_2.index = ['nicht überlebt','überlebt']\n",
        "confusion_matrix_2.columns = ['Vorhersage nicht überlebt','Vorhersage überlebt']\n",
        "print(confusion_matrix_2)"
      ],
      "metadata": {
        "colab": {
          "base_uri": "https://localhost:8080/"
        },
        "id": "eWSXbmv_Iy2a",
        "outputId": "99d81889-07d5-4221-f437-cb145d0bd650"
      },
      "execution_count": 21,
      "outputs": [
        {
          "output_type": "stream",
          "name": "stdout",
          "text": [
            "                Vorhersage nicht überlebt  Vorhersage überlebt\n",
            "nicht überlebt                        100                    6\n",
            "überlebt                               33                   40\n"
          ]
        }
      ]
    },
    {
      "cell_type": "markdown",
      "source": [
        "## Optimierung 2: Feature Selection & Hyperparameteroptimierung"
      ],
      "metadata": {
        "id": "Y0vA1ycCXqjP"
      }
    },
    {
      "cell_type": "code",
      "source": [
        "X_train_2 = X_train.drop(['Pclass_P1', 'Pclass_P2'], axis = 1)\n",
        "X_test_2 = X_test.drop(['Pclass_P1', 'Pclass_P2'], axis = 1)\n",
        "\n",
        "grid_2 = GridSearchCV(model_1, \n",
        "                      param_grid = params,\n",
        "                      scoring = 'roc_auc',\n",
        "                      cv=5,\n",
        "                      verbose = 2)\n",
        "\n",
        "grid_2.fit(X_train_2, y_train)"
      ],
      "metadata": {
        "colab": {
          "base_uri": "https://localhost:8080/"
        },
        "id": "q7F6iF-PI7oh",
        "outputId": "8d05d3a0-03ad-4ffc-f351-d1a5e302a895"
      },
      "execution_count": 22,
      "outputs": [
        {
          "output_type": "stream",
          "name": "stdout",
          "text": [
            "Fitting 5 folds for each of 90 candidates, totalling 450 fits\n",
            "[CV] END ........criterion=gini, max_depth=2, max_features=2; total time=   0.0s\n",
            "[CV] END ........criterion=gini, max_depth=2, max_features=2; total time=   0.0s\n",
            "[CV] END ........criterion=gini, max_depth=2, max_features=2; total time=   0.0s\n",
            "[CV] END ........criterion=gini, max_depth=2, max_features=2; total time=   0.0s\n",
            "[CV] END ........criterion=gini, max_depth=2, max_features=2; total time=   0.0s\n",
            "[CV] END ........criterion=gini, max_depth=2, max_features=3; total time=   0.0s\n",
            "[CV] END ........criterion=gini, max_depth=2, max_features=3; total time=   0.0s\n",
            "[CV] END ........criterion=gini, max_depth=2, max_features=3; total time=   0.0s\n",
            "[CV] END ........criterion=gini, max_depth=2, max_features=3; total time=   0.0s\n",
            "[CV] END ........criterion=gini, max_depth=2, max_features=3; total time=   0.0s\n",
            "[CV] END ........criterion=gini, max_depth=2, max_features=4; total time=   0.0s\n",
            "[CV] END ........criterion=gini, max_depth=2, max_features=4; total time=   0.0s\n",
            "[CV] END ........criterion=gini, max_depth=2, max_features=4; total time=   0.0s\n",
            "[CV] END ........criterion=gini, max_depth=2, max_features=4; total time=   0.0s\n",
            "[CV] END ........criterion=gini, max_depth=2, max_features=4; total time=   0.0s\n",
            "[CV] END ........criterion=gini, max_depth=2, max_features=5; total time=   0.0s\n",
            "[CV] END ........criterion=gini, max_depth=2, max_features=5; total time=   0.0s\n",
            "[CV] END ........criterion=gini, max_depth=2, max_features=5; total time=   0.0s\n",
            "[CV] END ........criterion=gini, max_depth=2, max_features=5; total time=   0.0s\n",
            "[CV] END ........criterion=gini, max_depth=2, max_features=5; total time=   0.0s\n",
            "[CV] END ........criterion=gini, max_depth=2, max_features=6; total time=   0.0s\n",
            "[CV] END ........criterion=gini, max_depth=2, max_features=6; total time=   0.0s\n",
            "[CV] END ........criterion=gini, max_depth=2, max_features=6; total time=   0.0s\n",
            "[CV] END ........criterion=gini, max_depth=2, max_features=6; total time=   0.0s\n",
            "[CV] END ........criterion=gini, max_depth=2, max_features=6; total time=   0.0s\n",
            "[CV] END ........criterion=gini, max_depth=3, max_features=2; total time=   0.0s\n",
            "[CV] END ........criterion=gini, max_depth=3, max_features=2; total time=   0.0s\n",
            "[CV] END ........criterion=gini, max_depth=3, max_features=2; total time=   0.0s\n",
            "[CV] END ........criterion=gini, max_depth=3, max_features=2; total time=   0.0s\n",
            "[CV] END ........criterion=gini, max_depth=3, max_features=2; total time=   0.0s\n",
            "[CV] END ........criterion=gini, max_depth=3, max_features=3; total time=   0.0s\n",
            "[CV] END ........criterion=gini, max_depth=3, max_features=3; total time=   0.0s\n",
            "[CV] END ........criterion=gini, max_depth=3, max_features=3; total time=   0.0s\n",
            "[CV] END ........criterion=gini, max_depth=3, max_features=3; total time=   0.0s\n",
            "[CV] END ........criterion=gini, max_depth=3, max_features=3; total time=   0.0s\n",
            "[CV] END ........criterion=gini, max_depth=3, max_features=4; total time=   0.0s\n",
            "[CV] END ........criterion=gini, max_depth=3, max_features=4; total time=   0.0s\n",
            "[CV] END ........criterion=gini, max_depth=3, max_features=4; total time=   0.0s\n",
            "[CV] END ........criterion=gini, max_depth=3, max_features=4; total time=   0.0s\n",
            "[CV] END ........criterion=gini, max_depth=3, max_features=4; total time=   0.0s\n",
            "[CV] END ........criterion=gini, max_depth=3, max_features=5; total time=   0.0s\n",
            "[CV] END ........criterion=gini, max_depth=3, max_features=5; total time=   0.0s\n",
            "[CV] END ........criterion=gini, max_depth=3, max_features=5; total time=   0.0s\n",
            "[CV] END ........criterion=gini, max_depth=3, max_features=5; total time=   0.0s\n",
            "[CV] END ........criterion=gini, max_depth=3, max_features=5; total time=   0.0s\n",
            "[CV] END ........criterion=gini, max_depth=3, max_features=6; total time=   0.0s\n",
            "[CV] END ........criterion=gini, max_depth=3, max_features=6; total time=   0.0s\n",
            "[CV] END ........criterion=gini, max_depth=3, max_features=6; total time=   0.0s\n",
            "[CV] END ........criterion=gini, max_depth=3, max_features=6; total time=   0.0s\n",
            "[CV] END ........criterion=gini, max_depth=3, max_features=6; total time=   0.0s\n",
            "[CV] END ........criterion=gini, max_depth=4, max_features=2; total time=   0.0s\n",
            "[CV] END ........criterion=gini, max_depth=4, max_features=2; total time=   0.0s\n",
            "[CV] END ........criterion=gini, max_depth=4, max_features=2; total time=   0.0s\n",
            "[CV] END ........criterion=gini, max_depth=4, max_features=2; total time=   0.0s\n",
            "[CV] END ........criterion=gini, max_depth=4, max_features=2; total time=   0.0s\n",
            "[CV] END ........criterion=gini, max_depth=4, max_features=3; total time=   0.0s\n",
            "[CV] END ........criterion=gini, max_depth=4, max_features=3; total time=   0.0s\n",
            "[CV] END ........criterion=gini, max_depth=4, max_features=3; total time=   0.0s\n",
            "[CV] END ........criterion=gini, max_depth=4, max_features=3; total time=   0.0s\n",
            "[CV] END ........criterion=gini, max_depth=4, max_features=3; total time=   0.0s\n",
            "[CV] END ........criterion=gini, max_depth=4, max_features=4; total time=   0.0s\n",
            "[CV] END ........criterion=gini, max_depth=4, max_features=4; total time=   0.0s\n",
            "[CV] END ........criterion=gini, max_depth=4, max_features=4; total time=   0.0s\n",
            "[CV] END ........criterion=gini, max_depth=4, max_features=4; total time=   0.0s\n",
            "[CV] END ........criterion=gini, max_depth=4, max_features=4; total time=   0.0s\n",
            "[CV] END ........criterion=gini, max_depth=4, max_features=5; total time=   0.0s\n",
            "[CV] END ........criterion=gini, max_depth=4, max_features=5; total time=   0.0s\n",
            "[CV] END ........criterion=gini, max_depth=4, max_features=5; total time=   0.0s\n",
            "[CV] END ........criterion=gini, max_depth=4, max_features=5; total time=   0.0s\n",
            "[CV] END ........criterion=gini, max_depth=4, max_features=5; total time=   0.0s\n",
            "[CV] END ........criterion=gini, max_depth=4, max_features=6; total time=   0.0s\n",
            "[CV] END ........criterion=gini, max_depth=4, max_features=6; total time=   0.0s\n",
            "[CV] END ........criterion=gini, max_depth=4, max_features=6; total time=   0.0s\n",
            "[CV] END ........criterion=gini, max_depth=4, max_features=6; total time=   0.0s\n",
            "[CV] END ........criterion=gini, max_depth=4, max_features=6; total time=   0.0s\n",
            "[CV] END ........criterion=gini, max_depth=5, max_features=2; total time=   0.0s\n",
            "[CV] END ........criterion=gini, max_depth=5, max_features=2; total time=   0.0s\n",
            "[CV] END ........criterion=gini, max_depth=5, max_features=2; total time=   0.0s\n",
            "[CV] END ........criterion=gini, max_depth=5, max_features=2; total time=   0.0s\n",
            "[CV] END ........criterion=gini, max_depth=5, max_features=2; total time=   0.0s\n",
            "[CV] END ........criterion=gini, max_depth=5, max_features=3; total time=   0.0s\n",
            "[CV] END ........criterion=gini, max_depth=5, max_features=3; total time=   0.0s\n",
            "[CV] END ........criterion=gini, max_depth=5, max_features=3; total time=   0.0s\n",
            "[CV] END ........criterion=gini, max_depth=5, max_features=3; total time=   0.0s\n",
            "[CV] END ........criterion=gini, max_depth=5, max_features=3; total time=   0.0s\n",
            "[CV] END ........criterion=gini, max_depth=5, max_features=4; total time=   0.0s\n",
            "[CV] END ........criterion=gini, max_depth=5, max_features=4; total time=   0.0s\n",
            "[CV] END ........criterion=gini, max_depth=5, max_features=4; total time=   0.0s\n",
            "[CV] END ........criterion=gini, max_depth=5, max_features=4; total time=   0.0s\n",
            "[CV] END ........criterion=gini, max_depth=5, max_features=4; total time=   0.0s\n",
            "[CV] END ........criterion=gini, max_depth=5, max_features=5; total time=   0.0s\n",
            "[CV] END ........criterion=gini, max_depth=5, max_features=5; total time=   0.0s\n",
            "[CV] END ........criterion=gini, max_depth=5, max_features=5; total time=   0.0s\n",
            "[CV] END ........criterion=gini, max_depth=5, max_features=5; total time=   0.0s\n",
            "[CV] END ........criterion=gini, max_depth=5, max_features=5; total time=   0.0s\n",
            "[CV] END ........criterion=gini, max_depth=5, max_features=6; total time=   0.0s\n",
            "[CV] END ........criterion=gini, max_depth=5, max_features=6; total time=   0.0s\n",
            "[CV] END ........criterion=gini, max_depth=5, max_features=6; total time=   0.0s\n",
            "[CV] END ........criterion=gini, max_depth=5, max_features=6; total time=   0.0s\n",
            "[CV] END ........criterion=gini, max_depth=5, max_features=6; total time=   0.0s\n",
            "[CV] END ........criterion=gini, max_depth=6, max_features=2; total time=   0.0s\n",
            "[CV] END ........criterion=gini, max_depth=6, max_features=2; total time=   0.0s\n",
            "[CV] END ........criterion=gini, max_depth=6, max_features=2; total time=   0.0s\n",
            "[CV] END ........criterion=gini, max_depth=6, max_features=2; total time=   0.0s\n",
            "[CV] END ........criterion=gini, max_depth=6, max_features=2; total time=   0.0s\n",
            "[CV] END ........criterion=gini, max_depth=6, max_features=3; total time=   0.0s\n",
            "[CV] END ........criterion=gini, max_depth=6, max_features=5; total time=   0.0s\n",
            "[CV] END ........criterion=gini, max_depth=6, max_features=6; total time=   0.0s\n",
            "[CV] END ........criterion=gini, max_depth=6, max_features=6; total time=   0.0s\n",
            "[CV] END ........criterion=gini, max_depth=6, max_features=6; total time=   0.0s\n",
            "[CV] END ........criterion=gini, max_depth=6, max_features=6; total time=   0.0s\n",
            "[CV] END ........criterion=gini, max_depth=6, max_features=6; total time=   0.0s\n",
            "[CV] END ........criterion=gini, max_depth=7, max_features=2; total time=   0.0s\n",
            "[CV] END ........criterion=gini, max_depth=7, max_features=2; total time=   0.0s\n",
            "[CV] END ........criterion=gini, max_depth=7, max_features=2; total time=   0.0s\n",
            "[CV] END ........criterion=gini, max_depth=7, max_features=2; total time=   0.0s\n",
            "[CV] END ........criterion=gini, max_depth=7, max_features=2; total time=   0.0s\n",
            "[CV] END ........criterion=gini, max_depth=7, max_features=3; total time=   0.0s\n",
            "[CV] END ........criterion=gini, max_depth=7, max_features=3; total time=   0.0s\n",
            "[CV] END ........criterion=gini, max_depth=7, max_features=3; total time=   0.0s\n",
            "[CV] END ........criterion=gini, max_depth=7, max_features=3; total time=   0.0s\n",
            "[CV] END ........criterion=gini, max_depth=7, max_features=3; total time=   0.0s\n",
            "[CV] END ........criterion=gini, max_depth=7, max_features=4; total time=   0.0s\n",
            "[CV] END ........criterion=gini, max_depth=7, max_features=4; total time=   0.0s\n",
            "[CV] END ........criterion=gini, max_depth=7, max_features=4; total time=   0.0s\n",
            "[CV] END ........criterion=gini, max_depth=7, max_features=4; total time=   0.0s\n",
            "[CV] END ........criterion=gini, max_depth=7, max_features=4; total time=   0.0s\n",
            "[CV] END ........criterion=gini, max_depth=7, max_features=5; total time=   0.0s\n",
            "[CV] END ........criterion=gini, max_depth=7, max_features=5; total time=   0.0s\n",
            "[CV] END ........criterion=gini, max_depth=7, max_features=5; total time=   0.0s\n",
            "[CV] END ........criterion=gini, max_depth=7, max_features=5; total time=   0.0s\n",
            "[CV] END ........criterion=gini, max_depth=7, max_features=5; total time=   0.0s\n",
            "[CV] END ........criterion=gini, max_depth=7, max_features=6; total time=   0.0s\n",
            "[CV] END ........criterion=gini, max_depth=7, max_features=6; total time=   0.0s\n",
            "[CV] END ........criterion=gini, max_depth=7, max_features=6; total time=   0.0s\n",
            "[CV] END ........criterion=gini, max_depth=7, max_features=6; total time=   0.0s\n",
            "[CV] END ........criterion=gini, max_depth=7, max_features=6; total time=   0.0s\n",
            "[CV] END ........criterion=gini, max_depth=8, max_features=2; total time=   0.0s\n",
            "[CV] END ........criterion=gini, max_depth=8, max_features=2; total time=   0.0s\n",
            "[CV] END ........criterion=gini, max_depth=8, max_features=2; total time=   0.0s\n",
            "[CV] END ........criterion=gini, max_depth=8, max_features=2; total time=   0.0s\n",
            "[CV] END ........criterion=gini, max_depth=8, max_features=2; total time=   0.0s\n",
            "[CV] END ........criterion=gini, max_depth=8, max_features=3; total time=   0.0s\n",
            "[CV] END ........criterion=gini, max_depth=8, max_features=3; total time=   0.0s\n",
            "[CV] END ........criterion=gini, max_depth=8, max_features=3; total time=   0.0s\n",
            "[CV] END ........criterion=gini, max_depth=8, max_features=3; total time=   0.0s\n",
            "[CV] END ........criterion=gini, max_depth=8, max_features=3; total time=   0.0s\n",
            "[CV] END ........criterion=gini, max_depth=8, max_features=4; total time=   0.0s\n",
            "[CV] END ........criterion=gini, max_depth=8, max_features=4; total time=   0.0s\n",
            "[CV] END ........criterion=gini, max_depth=8, max_features=4; total time=   0.0s\n",
            "[CV] END ........criterion=gini, max_depth=8, max_features=4; total time=   0.0s\n",
            "[CV] END ........criterion=gini, max_depth=8, max_features=4; total time=   0.0s\n",
            "[CV] END ........criterion=gini, max_depth=8, max_features=5; total time=   0.0s\n",
            "[CV] END ........criterion=gini, max_depth=8, max_features=5; total time=   0.0s\n",
            "[CV] END ........criterion=gini, max_depth=8, max_features=5; total time=   0.0s\n",
            "[CV] END ........criterion=gini, max_depth=8, max_features=5; total time=   0.0s\n",
            "[CV] END ........criterion=gini, max_depth=8, max_features=5; total time=   0.0s\n",
            "[CV] END ........criterion=gini, max_depth=8, max_features=6; total time=   0.0s\n",
            "[CV] END ........criterion=gini, max_depth=8, max_features=6; total time=   0.0s\n",
            "[CV] END ........criterion=gini, max_depth=8, max_features=6; total time=   0.0s\n",
            "[CV] END ........criterion=gini, max_depth=8, max_features=6; total time=   0.0s\n",
            "[CV] END ........criterion=gini, max_depth=8, max_features=6; total time=   0.0s\n",
            "[CV] END ........criterion=gini, max_depth=9, max_features=2; total time=   0.0s\n",
            "[CV] END ........criterion=gini, max_depth=9, max_features=2; total time=   0.0s\n",
            "[CV] END ........criterion=gini, max_depth=9, max_features=2; total time=   0.0s\n",
            "[CV] END ........criterion=gini, max_depth=9, max_features=2; total time=   0.0s\n",
            "[CV] END ........criterion=gini, max_depth=9, max_features=2; total time=   0.0s\n",
            "[CV] END ........criterion=gini, max_depth=9, max_features=3; total time=   0.0s\n",
            "[CV] END ........criterion=gini, max_depth=9, max_features=3; total time=   0.0s\n",
            "[CV] END ........criterion=gini, max_depth=9, max_features=3; total time=   0.0s\n",
            "[CV] END ........criterion=gini, max_depth=9, max_features=3; total time=   0.0s\n",
            "[CV] END ........criterion=gini, max_depth=9, max_features=3; total time=   0.0s\n",
            "[CV] END ........criterion=gini, max_depth=9, max_features=4; total time=   0.0s\n",
            "[CV] END ........criterion=gini, max_depth=9, max_features=4; total time=   0.0s\n",
            "[CV] END ........criterion=gini, max_depth=9, max_features=4; total time=   0.0s\n",
            "[CV] END ........criterion=gini, max_depth=9, max_features=4; total time=   0.0s\n",
            "[CV] END ........criterion=gini, max_depth=9, max_features=4; total time=   0.0s\n",
            "[CV] END ........criterion=gini, max_depth=9, max_features=5; total time=   0.0s\n",
            "[CV] END ........criterion=gini, max_depth=9, max_features=5; total time=   0.0s\n",
            "[CV] END ........criterion=gini, max_depth=9, max_features=5; total time=   0.0s\n",
            "[CV] END ........criterion=gini, max_depth=9, max_features=5; total time=   0.0s\n",
            "[CV] END ........criterion=gini, max_depth=9, max_features=5; total time=   0.0s\n",
            "[CV] END ........criterion=gini, max_depth=9, max_features=6; total time=   0.0s\n",
            "[CV] END ........criterion=gini, max_depth=9, max_features=6; total time=   0.0s\n",
            "[CV] END ........criterion=gini, max_depth=9, max_features=6; total time=   0.0s\n",
            "[CV] END ........criterion=gini, max_depth=9, max_features=6; total time=   0.0s\n",
            "[CV] END ........criterion=gini, max_depth=9, max_features=6; total time=   0.0s\n",
            "[CV] END .......criterion=gini, max_depth=10, max_features=2; total time=   0.0s\n",
            "[CV] END .......criterion=gini, max_depth=10, max_features=2; total time=   0.0s\n",
            "[CV] END .......criterion=gini, max_depth=10, max_features=2; total time=   0.0s\n",
            "[CV] END .......criterion=gini, max_depth=10, max_features=2; total time=   0.0s\n",
            "[CV] END .......criterion=gini, max_depth=10, max_features=2; total time=   0.0s\n",
            "[CV] END .......criterion=gini, max_depth=10, max_features=3; total time=   0.0s\n",
            "[CV] END .......criterion=gini, max_depth=10, max_features=3; total time=   0.0s\n",
            "[CV] END .......criterion=gini, max_depth=10, max_features=3; total time=   0.0s\n",
            "[CV] END .......criterion=gini, max_depth=10, max_features=3; total time=   0.0s\n",
            "[CV] END .......criterion=gini, max_depth=10, max_features=3; total time=   0.0s\n",
            "[CV] END .......criterion=gini, max_depth=10, max_features=4; total time=   0.0s\n",
            "[CV] END .......criterion=gini, max_depth=10, max_features=4; total time=   0.0s\n",
            "[CV] END .......criterion=gini, max_depth=10, max_features=4; total time=   0.0s\n",
            "[CV] END .......criterion=gini, max_depth=10, max_features=4; total time=   0.0s\n",
            "[CV] END .......criterion=gini, max_depth=10, max_features=4; total time=   0.0s\n",
            "[CV] END .......criterion=gini, max_depth=10, max_features=5; total time=   0.0s\n",
            "[CV] END .......criterion=gini, max_depth=10, max_features=5; total time=   0.0s\n",
            "[CV] END .......criterion=gini, max_depth=10, max_features=5; total time=   0.0s\n",
            "[CV] END .......criterion=gini, max_depth=10, max_features=5; total time=   0.0s\n",
            "[CV] END .......criterion=gini, max_depth=10, max_features=5; total time=   0.0s\n",
            "[CV] END .......criterion=gini, max_depth=10, max_features=6; total time=   0.0s\n",
            "[CV] END .......criterion=gini, max_depth=10, max_features=6; total time=   0.0s\n",
            "[CV] END .......criterion=gini, max_depth=10, max_features=6; total time=   0.0s\n",
            "[CV] END .......criterion=gini, max_depth=10, max_features=6; total time=   0.0s\n",
            "[CV] END .......criterion=gini, max_depth=10, max_features=6; total time=   0.0s\n",
            "[CV] END .....criterion=entropy, max_depth=2, max_features=2; total time=   0.0s\n",
            "[CV] END .....criterion=entropy, max_depth=2, max_features=2; total time=   0.0s\n",
            "[CV] END .....criterion=entropy, max_depth=2, max_features=2; total time=   0.0s\n",
            "[CV] END .....criterion=entropy, max_depth=2, max_features=2; total time=   0.0s\n",
            "[CV] END .....criterion=entropy, max_depth=2, max_features=2; total time=   0.0s\n",
            "[CV] END .....criterion=entropy, max_depth=2, max_features=3; total time=   0.0s\n",
            "[CV] END .....criterion=entropy, max_depth=2, max_features=3; total time=   0.0s\n",
            "[CV] END .....criterion=entropy, max_depth=2, max_features=3; total time=   0.0s\n",
            "[CV] END .....criterion=entropy, max_depth=2, max_features=3; total time=   0.0s\n",
            "[CV] END .....criterion=entropy, max_depth=2, max_features=3; total time=   0.0s\n",
            "[CV] END .....criterion=entropy, max_depth=2, max_features=4; total time=   0.0s\n",
            "[CV] END .....criterion=entropy, max_depth=2, max_features=4; total time=   0.0s\n",
            "[CV] END .....criterion=entropy, max_depth=2, max_features=4; total time=   0.0s\n",
            "[CV] END .....criterion=entropy, max_depth=2, max_features=4; total time=   0.0s\n",
            "[CV] END .....criterion=entropy, max_depth=2, max_features=4; total time=   0.0s\n",
            "[CV] END .....criterion=entropy, max_depth=2, max_features=5; total time=   0.0s\n",
            "[CV] END .....criterion=entropy, max_depth=2, max_features=5; total time=   0.0s\n",
            "[CV] END .....criterion=entropy, max_depth=2, max_features=5; total time=   0.0s\n",
            "[CV] END .....criterion=entropy, max_depth=2, max_features=5; total time=   0.0s\n",
            "[CV] END .....criterion=entropy, max_depth=2, max_features=5; total time=   0.0s\n",
            "[CV] END .....criterion=entropy, max_depth=2, max_features=6; total time=   0.0s\n",
            "[CV] END .....criterion=entropy, max_depth=2, max_features=6; total time=   0.0s\n",
            "[CV] END .....criterion=entropy, max_depth=2, max_features=6; total time=   0.0s\n",
            "[CV] END .....criterion=entropy, max_depth=2, max_features=6; total time=   0.0s\n",
            "[CV] END .....criterion=entropy, max_depth=2, max_features=6; total time=   0.0s\n",
            "[CV] END .....criterion=entropy, max_depth=3, max_features=2; total time=   0.0s\n",
            "[CV] END .....criterion=entropy, max_depth=3, max_features=2; total time=   0.0s\n",
            "[CV] END .....criterion=entropy, max_depth=3, max_features=2; total time=   0.0s\n",
            "[CV] END .....criterion=entropy, max_depth=3, max_features=2; total time=   0.0s\n",
            "[CV] END .....criterion=entropy, max_depth=3, max_features=2; total time=   0.0s\n",
            "[CV] END .....criterion=entropy, max_depth=3, max_features=3; total time=   0.0s\n",
            "[CV] END .....criterion=entropy, max_depth=3, max_features=3; total time=   0.0s\n",
            "[CV] END .....criterion=entropy, max_depth=3, max_features=3; total time=   0.0s\n",
            "[CV] END .....criterion=entropy, max_depth=3, max_features=3; total time=   0.0s\n",
            "[CV] END .....criterion=entropy, max_depth=3, max_features=3; total time=   0.0s\n",
            "[CV] END .....criterion=entropy, max_depth=3, max_features=4; total time=   0.0s\n",
            "[CV] END .....criterion=entropy, max_depth=3, max_features=4; total time=   0.0s\n",
            "[CV] END .....criterion=entropy, max_depth=3, max_features=4; total time=   0.0s\n",
            "[CV] END .....criterion=entropy, max_depth=3, max_features=4; total time=   0.0s\n",
            "[CV] END .....criterion=entropy, max_depth=3, max_features=4; total time=   0.0s\n",
            "[CV] END .....criterion=entropy, max_depth=3, max_features=5; total time=   0.0s\n",
            "[CV] END .....criterion=entropy, max_depth=3, max_features=5; total time=   0.0s\n",
            "[CV] END .....criterion=entropy, max_depth=3, max_features=5; total time=   0.0s\n",
            "[CV] END .....criterion=entropy, max_depth=3, max_features=5; total time=   0.0s\n",
            "[CV] END .....criterion=entropy, max_depth=3, max_features=5; total time=   0.0s\n",
            "[CV] END .....criterion=entropy, max_depth=3, max_features=6; total time=   0.0s\n",
            "[CV] END .....criterion=entropy, max_depth=3, max_features=6; total time=   0.0s\n",
            "[CV] END .....criterion=entropy, max_depth=3, max_features=6; total time=   0.0s\n",
            "[CV] END .....criterion=entropy, max_depth=3, max_features=6; total time=   0.0s\n",
            "[CV] END .....criterion=entropy, max_depth=3, max_features=6; total time=   0.0s\n",
            "[CV] END .....criterion=entropy, max_depth=4, max_features=2; total time=   0.0s\n",
            "[CV] END .....criterion=entropy, max_depth=4, max_features=2; total time=   0.0s\n",
            "[CV] END .....criterion=entropy, max_depth=4, max_features=2; total time=   0.0s\n",
            "[CV] END .....criterion=entropy, max_depth=4, max_features=2; total time=   0.0s\n",
            "[CV] END .....criterion=entropy, max_depth=4, max_features=2; total time=   0.0s\n",
            "[CV] END .....criterion=entropy, max_depth=4, max_features=3; total time=   0.0s\n",
            "[CV] END .....criterion=entropy, max_depth=4, max_features=3; total time=   0.0s\n",
            "[CV] END .....criterion=entropy, max_depth=4, max_features=3; total time=   0.0s\n",
            "[CV] END .....criterion=entropy, max_depth=4, max_features=3; total time=   0.0s\n",
            "[CV] END .....criterion=entropy, max_depth=4, max_features=3; total time=   0.0s\n",
            "[CV] END .....criterion=entropy, max_depth=4, max_features=4; total time=   0.0s\n",
            "[CV] END .....criterion=entropy, max_depth=4, max_features=4; total time=   0.0s\n",
            "[CV] END .....criterion=entropy, max_depth=4, max_features=4; total time=   0.0s\n",
            "[CV] END .....criterion=entropy, max_depth=4, max_features=4; total time=   0.0s\n",
            "[CV] END .....criterion=entropy, max_depth=4, max_features=4; total time=   0.0s\n",
            "[CV] END .....criterion=entropy, max_depth=4, max_features=5; total time=   0.0s\n",
            "[CV] END .....criterion=entropy, max_depth=4, max_features=5; total time=   0.0s\n",
            "[CV] END .....criterion=entropy, max_depth=4, max_features=5; total time=   0.0s\n",
            "[CV] END .....criterion=entropy, max_depth=4, max_features=5; total time=   0.0s\n",
            "[CV] END .....criterion=entropy, max_depth=4, max_features=5; total time=   0.0s\n",
            "[CV] END .....criterion=entropy, max_depth=4, max_features=6; total time=   0.0s\n",
            "[CV] END .....criterion=entropy, max_depth=4, max_features=6; total time=   0.0s\n",
            "[CV] END .....criterion=entropy, max_depth=4, max_features=6; total time=   0.0s\n",
            "[CV] END .....criterion=entropy, max_depth=4, max_features=6; total time=   0.0s\n",
            "[CV] END .....criterion=entropy, max_depth=4, max_features=6; total time=   0.0s\n",
            "[CV] END .....criterion=entropy, max_depth=5, max_features=2; total time=   0.0s\n",
            "[CV] END .....criterion=entropy, max_depth=5, max_features=2; total time=   0.0s\n",
            "[CV] END .....criterion=entropy, max_depth=5, max_features=2; total time=   0.0s\n",
            "[CV] END .....criterion=entropy, max_depth=5, max_features=2; total time=   0.0s\n",
            "[CV] END .....criterion=entropy, max_depth=5, max_features=2; total time=   0.0s\n",
            "[CV] END .....criterion=entropy, max_depth=5, max_features=3; total time=   0.0s\n",
            "[CV] END .....criterion=entropy, max_depth=5, max_features=3; total time=   0.0s\n",
            "[CV] END .....criterion=entropy, max_depth=5, max_features=3; total time=   0.0s\n",
            "[CV] END .....criterion=entropy, max_depth=5, max_features=3; total time=   0.0s\n",
            "[CV] END .....criterion=entropy, max_depth=5, max_features=3; total time=   0.0s\n",
            "[CV] END .....criterion=entropy, max_depth=5, max_features=4; total time=   0.0s\n",
            "[CV] END .....criterion=entropy, max_depth=5, max_features=4; total time=   0.0s\n",
            "[CV] END .....criterion=entropy, max_depth=5, max_features=4; total time=   0.0s\n",
            "[CV] END .....criterion=entropy, max_depth=5, max_features=4; total time=   0.0s\n",
            "[CV] END .....criterion=entropy, max_depth=5, max_features=4; total time=   0.0s\n",
            "[CV] END .....criterion=entropy, max_depth=5, max_features=5; total time=   0.0s\n",
            "[CV] END .....criterion=entropy, max_depth=5, max_features=5; total time=   0.0s\n",
            "[CV] END .....criterion=entropy, max_depth=5, max_features=5; total time=   0.0s\n",
            "[CV] END .....criterion=entropy, max_depth=5, max_features=5; total time=   0.0s\n",
            "[CV] END .....criterion=entropy, max_depth=5, max_features=5; total time=   0.0s\n",
            "[CV] END .....criterion=entropy, max_depth=5, max_features=6; total time=   0.0s\n",
            "[CV] END .....criterion=entropy, max_depth=5, max_features=6; total time=   0.0s\n",
            "[CV] END .....criterion=entropy, max_depth=5, max_features=6; total time=   0.0s\n",
            "[CV] END .....criterion=entropy, max_depth=5, max_features=6; total time=   0.0s\n",
            "[CV] END .....criterion=entropy, max_depth=5, max_features=6; total time=   0.0s\n",
            "[CV] END .....criterion=entropy, max_depth=6, max_features=2; total time=   0.0s\n",
            "[CV] END .....criterion=entropy, max_depth=6, max_features=2; total time=   0.0s\n",
            "[CV] END .....criterion=entropy, max_depth=6, max_features=2; total time=   0.0s\n",
            "[CV] END .....criterion=entropy, max_depth=6, max_features=2; total time=   0.0s\n",
            "[CV] END .....criterion=entropy, max_depth=6, max_features=2; total time=   0.0s\n",
            "[CV] END .....criterion=entropy, max_depth=6, max_features=3; total time=   0.0s\n",
            "[CV] END .....criterion=entropy, max_depth=6, max_features=3; total time=   0.0s\n",
            "[CV] END .....criterion=entropy, max_depth=6, max_features=3; total time=   0.0s\n",
            "[CV] END .....criterion=entropy, max_depth=6, max_features=3; total time=   0.0s\n",
            "[CV] END .....criterion=entropy, max_depth=6, max_features=3; total time=   0.0s\n",
            "[CV] END .....criterion=entropy, max_depth=6, max_features=4; total time=   0.0s\n",
            "[CV] END .....criterion=entropy, max_depth=6, max_features=4; total time=   0.0s\n",
            "[CV] END .....criterion=entropy, max_depth=6, max_features=4; total time=   0.0s\n",
            "[CV] END .....criterion=entropy, max_depth=6, max_features=4; total time=   0.0s\n",
            "[CV] END .....criterion=entropy, max_depth=6, max_features=4; total time=   0.0s\n",
            "[CV] END .....criterion=entropy, max_depth=6, max_features=5; total time=   0.0s\n",
            "[CV] END .....criterion=entropy, max_depth=6, max_features=5; total time=   0.0s\n",
            "[CV] END .....criterion=entropy, max_depth=6, max_features=5; total time=   0.0s\n",
            "[CV] END .....criterion=entropy, max_depth=6, max_features=5; total time=   0.0s\n",
            "[CV] END .....criterion=entropy, max_depth=6, max_features=5; total time=   0.0s\n",
            "[CV] END .....criterion=entropy, max_depth=6, max_features=6; total time=   0.0s\n",
            "[CV] END .....criterion=entropy, max_depth=6, max_features=6; total time=   0.0s\n",
            "[CV] END .....criterion=entropy, max_depth=6, max_features=6; total time=   0.0s\n",
            "[CV] END .....criterion=entropy, max_depth=6, max_features=6; total time=   0.0s\n",
            "[CV] END .....criterion=entropy, max_depth=6, max_features=6; total time=   0.0s\n",
            "[CV] END .....criterion=entropy, max_depth=7, max_features=2; total time=   0.0s\n",
            "[CV] END .....criterion=entropy, max_depth=7, max_features=2; total time=   0.0s\n",
            "[CV] END .....criterion=entropy, max_depth=7, max_features=2; total time=   0.0s\n",
            "[CV] END .....criterion=entropy, max_depth=7, max_features=2; total time=   0.0s\n",
            "[CV] END .....criterion=entropy, max_depth=7, max_features=2; total time=   0.0s\n",
            "[CV] END .....criterion=entropy, max_depth=7, max_features=3; total time=   0.0s\n",
            "[CV] END .....criterion=entropy, max_depth=7, max_features=3; total time=   0.0s\n",
            "[CV] END .....criterion=entropy, max_depth=7, max_features=3; total time=   0.0s\n",
            "[CV] END .....criterion=entropy, max_depth=7, max_features=3; total time=   0.0s\n",
            "[CV] END .....criterion=entropy, max_depth=7, max_features=3; total time=   0.0s\n",
            "[CV] END .....criterion=entropy, max_depth=7, max_features=4; total time=   0.0s\n",
            "[CV] END .....criterion=entropy, max_depth=7, max_features=4; total time=   0.0s\n",
            "[CV] END .....criterion=entropy, max_depth=7, max_features=4; total time=   0.0s\n",
            "[CV] END .....criterion=entropy, max_depth=7, max_features=4; total time=   0.0s\n",
            "[CV] END .....criterion=entropy, max_depth=7, max_features=4; total time=   0.0s\n",
            "[CV] END .....criterion=entropy, max_depth=7, max_features=5; total time=   0.0s\n",
            "[CV] END .....criterion=entropy, max_depth=7, max_features=5; total time=   0.0s\n",
            "[CV] END .....criterion=entropy, max_depth=7, max_features=5; total time=   0.0s\n",
            "[CV] END .....criterion=entropy, max_depth=7, max_features=5; total time=   0.0s\n",
            "[CV] END .....criterion=entropy, max_depth=7, max_features=5; total time=   0.0s\n",
            "[CV] END .....criterion=entropy, max_depth=7, max_features=6; total time=   0.0s\n",
            "[CV] END .....criterion=entropy, max_depth=7, max_features=6; total time=   0.0s\n",
            "[CV] END .....criterion=entropy, max_depth=7, max_features=6; total time=   0.0s\n",
            "[CV] END .....criterion=entropy, max_depth=7, max_features=6; total time=   0.0s\n",
            "[CV] END .....criterion=entropy, max_depth=7, max_features=6; total time=   0.0s\n",
            "[CV] END .....criterion=entropy, max_depth=8, max_features=2; total time=   0.0s\n",
            "[CV] END .....criterion=entropy, max_depth=8, max_features=2; total time=   0.0s\n",
            "[CV] END .....criterion=entropy, max_depth=8, max_features=2; total time=   0.0s\n",
            "[CV] END .....criterion=entropy, max_depth=8, max_features=2; total time=   0.0s\n",
            "[CV] END .....criterion=entropy, max_depth=8, max_features=2; total time=   0.0s\n",
            "[CV] END .....criterion=entropy, max_depth=8, max_features=3; total time=   0.0s\n",
            "[CV] END .....criterion=entropy, max_depth=8, max_features=3; total time=   0.0s\n",
            "[CV] END .....criterion=entropy, max_depth=8, max_features=3; total time=   0.0s\n",
            "[CV] END .....criterion=entropy, max_depth=8, max_features=3; total time=   0.0s\n",
            "[CV] END .....criterion=entropy, max_depth=8, max_features=3; total time=   0.0s\n",
            "[CV] END .....criterion=entropy, max_depth=8, max_features=4; total time=   0.0s\n",
            "[CV] END .....criterion=entropy, max_depth=8, max_features=4; total time=   0.0s\n",
            "[CV] END .....criterion=entropy, max_depth=8, max_features=4; total time=   0.0s\n",
            "[CV] END .....criterion=entropy, max_depth=8, max_features=4; total time=   0.0s\n",
            "[CV] END .....criterion=entropy, max_depth=8, max_features=4; total time=   0.0s\n",
            "[CV] END .....criterion=entropy, max_depth=8, max_features=5; total time=   0.0s\n",
            "[CV] END .....criterion=entropy, max_depth=8, max_features=5; total time=   0.0s\n",
            "[CV] END .....criterion=entropy, max_depth=8, max_features=5; total time=   0.0s\n",
            "[CV] END .....criterion=entropy, max_depth=8, max_features=5; total time=   0.0s\n",
            "[CV] END .....criterion=entropy, max_depth=8, max_features=5; total time=   0.0s\n",
            "[CV] END .....criterion=entropy, max_depth=8, max_features=6; total time=   0.0s\n",
            "[CV] END .....criterion=entropy, max_depth=8, max_features=6; total time=   0.0s\n",
            "[CV] END .....criterion=entropy, max_depth=8, max_features=6; total time=   0.0s\n",
            "[CV] END .....criterion=entropy, max_depth=8, max_features=6; total time=   0.0s\n",
            "[CV] END .....criterion=entropy, max_depth=8, max_features=6; total time=   0.0s\n",
            "[CV] END .....criterion=entropy, max_depth=9, max_features=2; total time=   0.0s\n",
            "[CV] END .....criterion=entropy, max_depth=9, max_features=2; total time=   0.0s\n",
            "[CV] END .....criterion=entropy, max_depth=9, max_features=2; total time=   0.0s\n",
            "[CV] END .....criterion=entropy, max_depth=9, max_features=2; total time=   0.0s\n",
            "[CV] END .....criterion=entropy, max_depth=9, max_features=2; total time=   0.0s\n",
            "[CV] END .....criterion=entropy, max_depth=9, max_features=3; total time=   0.0s\n",
            "[CV] END .....criterion=entropy, max_depth=9, max_features=3; total time=   0.0s\n",
            "[CV] END .....criterion=entropy, max_depth=9, max_features=3; total time=   0.0s\n",
            "[CV] END .....criterion=entropy, max_depth=9, max_features=3; total time=   0.0s\n",
            "[CV] END .....criterion=entropy, max_depth=9, max_features=3; total time=   0.0s\n",
            "[CV] END .....criterion=entropy, max_depth=9, max_features=4; total time=   0.0s\n",
            "[CV] END .....criterion=entropy, max_depth=9, max_features=4; total time=   0.0s\n",
            "[CV] END .....criterion=entropy, max_depth=9, max_features=4; total time=   0.0s\n",
            "[CV] END .....criterion=entropy, max_depth=9, max_features=4; total time=   0.0s\n",
            "[CV] END .....criterion=entropy, max_depth=9, max_features=4; total time=   0.0s\n",
            "[CV] END .....criterion=entropy, max_depth=9, max_features=5; total time=   0.0s\n",
            "[CV] END .....criterion=entropy, max_depth=9, max_features=5; total time=   0.0s\n",
            "[CV] END .....criterion=entropy, max_depth=9, max_features=5; total time=   0.0s\n",
            "[CV] END .....criterion=entropy, max_depth=9, max_features=5; total time=   0.0s\n",
            "[CV] END .....criterion=entropy, max_depth=9, max_features=5; total time=   0.0s\n",
            "[CV] END .....criterion=entropy, max_depth=9, max_features=6; total time=   0.0s\n",
            "[CV] END .....criterion=entropy, max_depth=9, max_features=6; total time=   0.0s\n",
            "[CV] END .....criterion=entropy, max_depth=9, max_features=6; total time=   0.0s\n",
            "[CV] END .....criterion=entropy, max_depth=9, max_features=6; total time=   0.0s\n",
            "[CV] END .....criterion=entropy, max_depth=9, max_features=6; total time=   0.0s\n",
            "[CV] END ....criterion=entropy, max_depth=10, max_features=2; total time=   0.0s\n",
            "[CV] END ....criterion=entropy, max_depth=10, max_features=2; total time=   0.0s\n",
            "[CV] END ....criterion=entropy, max_depth=10, max_features=2; total time=   0.0s\n",
            "[CV] END ....criterion=entropy, max_depth=10, max_features=2; total time=   0.0s\n",
            "[CV] END ....criterion=entropy, max_depth=10, max_features=2; total time=   0.0s\n",
            "[CV] END ....criterion=entropy, max_depth=10, max_features=3; total time=   0.0s\n",
            "[CV] END ....criterion=entropy, max_depth=10, max_features=3; total time=   0.0s\n",
            "[CV] END ....criterion=entropy, max_depth=10, max_features=3; total time=   0.0s\n",
            "[CV] END ....criterion=entropy, max_depth=10, max_features=3; total time=   0.0s\n",
            "[CV] END ....criterion=entropy, max_depth=10, max_features=3; total time=   0.0s\n",
            "[CV] END ....criterion=entropy, max_depth=10, max_features=4; total time=   0.0s\n",
            "[CV] END ....criterion=entropy, max_depth=10, max_features=4; total time=   0.0s\n",
            "[CV] END ....criterion=entropy, max_depth=10, max_features=4; total time=   0.0s\n",
            "[CV] END ....criterion=entropy, max_depth=10, max_features=4; total time=   0.0s\n",
            "[CV] END ....criterion=entropy, max_depth=10, max_features=4; total time=   0.0s\n",
            "[CV] END ....criterion=entropy, max_depth=10, max_features=5; total time=   0.0s\n",
            "[CV] END ....criterion=entropy, max_depth=10, max_features=5; total time=   0.0s\n",
            "[CV] END ....criterion=entropy, max_depth=10, max_features=5; total time=   0.0s\n",
            "[CV] END ....criterion=entropy, max_depth=10, max_features=5; total time=   0.0s\n",
            "[CV] END ....criterion=entropy, max_depth=10, max_features=5; total time=   0.0s\n",
            "[CV] END ....criterion=entropy, max_depth=10, max_features=6; total time=   0.0s\n",
            "[CV] END ....criterion=entropy, max_depth=10, max_features=6; total time=   0.0s\n",
            "[CV] END ....criterion=entropy, max_depth=10, max_features=6; total time=   0.0s\n",
            "[CV] END ....criterion=entropy, max_depth=10, max_features=6; total time=   0.0s\n",
            "[CV] END ....criterion=entropy, max_depth=10, max_features=6; total time=   0.0s\n"
          ]
        },
        {
          "output_type": "execute_result",
          "data": {
            "text/plain": [
              "GridSearchCV(cv=5, estimator=DecisionTreeClassifier(random_state=0),\n",
              "             param_grid={'criterion': ['gini', 'entropy'],\n",
              "                         'max_depth': [2, 3, 4, 5, 6, 7, 8, 9, 10],\n",
              "                         'max_features': [2, 3, 4, 5, 6]},\n",
              "             scoring='roc_auc', verbose=2)"
            ]
          },
          "metadata": {},
          "execution_count": 22
        }
      ]
    },
    {
      "cell_type": "code",
      "source": [
        "grid_2.best_estimator_ "
      ],
      "metadata": {
        "colab": {
          "base_uri": "https://localhost:8080/"
        },
        "id": "cRrN1B6iKh39",
        "outputId": "137f141a-a9c7-4aa4-dcb0-2ff1f37fc701"
      },
      "execution_count": 23,
      "outputs": [
        {
          "output_type": "execute_result",
          "data": {
            "text/plain": [
              "DecisionTreeClassifier(max_depth=4, max_features=6, random_state=0)"
            ]
          },
          "metadata": {},
          "execution_count": 23
        }
      ]
    },
    {
      "cell_type": "code",
      "source": [
        "model_3 = DecisionTreeClassifier(random_state = 0,\n",
        "                                         max_depth = 4,\n",
        "                                         max_features = 6)\n",
        "model_3.fit(X_train_2, y_train)"
      ],
      "metadata": {
        "colab": {
          "base_uri": "https://localhost:8080/"
        },
        "id": "HyQhPl6zKnlw",
        "outputId": "33a77b72-04ce-41a3-c6ca-f2870031086d"
      },
      "execution_count": 24,
      "outputs": [
        {
          "output_type": "execute_result",
          "data": {
            "text/plain": [
              "DecisionTreeClassifier(max_depth=4, max_features=6, random_state=0)"
            ]
          },
          "metadata": {},
          "execution_count": 24
        }
      ]
    },
    {
      "cell_type": "code",
      "source": [
        "graph_3 = Source( export_graphviz(model_3, \n",
        "                                  out_file=None,\n",
        "                                  filled=True,\n",
        "                                  rounded=True,  \n",
        "                                  special_characters=True, \n",
        "                                  feature_names=X.drop(['Pclass_P1', 'Pclass_P2'], axis = 1).columns))\n",
        "graph_3.format = 'png'\n",
        "graph_3.render('model_3',view = True)"
      ],
      "metadata": {
        "colab": {
          "base_uri": "https://localhost:8080/",
          "height": 35
        },
        "id": "f9VsdIKugXhZ",
        "outputId": "5fbbc471-708c-4d22-f361-738519fe9cfa"
      },
      "execution_count": 25,
      "outputs": [
        {
          "output_type": "execute_result",
          "data": {
            "text/plain": [
              "'model_3.png'"
            ],
            "application/vnd.google.colaboratory.intrinsic+json": {
              "type": "string"
            }
          },
          "metadata": {},
          "execution_count": 25
        }
      ]
    },
    {
      "cell_type": "code",
      "source": [
        "y_pred_train_3 = model_3.predict(X_train_2)  \n",
        "y_pred_test_3 = model_3.predict(X_test_2)\n",
        "print('Accuracy Score Train Data:', accuracy_score(y_train, y_pred_train_3))\n",
        "print('Accuracy Score Test Data:', accuracy_score(y_test, y_pred_test_3))"
      ],
      "metadata": {
        "colab": {
          "base_uri": "https://localhost:8080/"
        },
        "id": "twozXxlJKt7W",
        "outputId": "9a4ea241-8e70-46f7-a5b1-e2aa88a59047"
      },
      "execution_count": 26,
      "outputs": [
        {
          "output_type": "stream",
          "name": "stdout",
          "text": [
            "Accuracy Score Train Data: 0.8441011235955056\n",
            "Accuracy Score Test Data: 0.8100558659217877\n"
          ]
        }
      ]
    },
    {
      "cell_type": "code",
      "source": [
        "confusion_matrix_3 = pd.DataFrame(confusion_matrix(y_test, y_pred_test_3))\n",
        "\n",
        "confusion_matrix_3.index = ['nicht überlebt','überlebt']\n",
        "confusion_matrix_3.columns = ['Vorhersage nicht überlebt','Vorhersage überlebt']\n",
        "print(confusion_matrix_3)"
      ],
      "metadata": {
        "colab": {
          "base_uri": "https://localhost:8080/"
        },
        "id": "B-wzyHphVnY0",
        "outputId": "b6ec5d58-5944-43ef-99e3-210da306d380"
      },
      "execution_count": 27,
      "outputs": [
        {
          "output_type": "stream",
          "name": "stdout",
          "text": [
            "                Vorhersage nicht überlebt  Vorhersage überlebt\n",
            "nicht überlebt                         95                   11\n",
            "überlebt                               23                   50\n"
          ]
        }
      ]
    }
  ]
}